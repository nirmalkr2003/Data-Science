{
 "cells": [
  {
   "cell_type": "code",
   "execution_count": 4,
   "id": "21de151b",
   "metadata": {},
   "outputs": [
    {
     "name": "stdout",
     "output_type": "stream",
     "text": [
      "['apple', 'nirmal', 1, 52, 21.3]\n",
      "['apple', 'nirmal', 1, 52, 1.1, 2, 3, 4]\n",
      "['apple', 2, 3, 4]\n"
     ]
    }
   ],
   "source": [
    "l=['apple',1,52,21.3]\n",
    "l2=[1.1,2,3,4]\n",
    "l.insert(1,'nirmal')\n",
    "print(l)\n",
    "l.pop()\n",
    "l3=(l+l2)\n",
    "print(l3)\n",
    "del l3[1:5]\n",
    "print(l3)\n",
    "\n"
   ]
  },
  {
   "cell_type": "code",
   "execution_count": 6,
   "id": "3589488d",
   "metadata": {},
   "outputs": [
    {
     "name": "stdout",
     "output_type": "stream",
     "text": [
      "1 : Nirmal\n",
      "2 : Cijo\n",
      "3 : Rishana\n",
      "4 : Adithya\n",
      "{'1': 'Nirmal', '2': 'Cijo', '3': 'Rishana', '4': 'Adithya', '5': 'Mentor'}\n"
     ]
    }
   ],
   "source": [
    "d1={'1':'Nirmal','2':'Cijo','3':'Rishana','4':'Adithya'}\n",
    "for key,value in d1.items():\n",
    "  print(key,\":\",value)\n",
    "d1['5']=\"Mentor\"\n",
    "print(d1)"
   ]
  },
  {
   "cell_type": "code",
   "execution_count": 10,
   "id": "0b6428f2",
   "metadata": {},
   "outputs": [
    {
     "data": {
      "text/plain": [
       "720"
      ]
     },
     "execution_count": 10,
     "metadata": {},
     "output_type": "execute_result"
    }
   ],
   "source": [
    "def factorial(n):\n",
    "  if n<=1:\n",
    "    return 1\n",
    "  else:\n",
    "    return n*factorial(n-1)\n",
    "  \n",
    "num=int(input(\"enter\"))\n",
    "factorial(num)"
   ]
  },
  {
   "cell_type": "code",
   "execution_count": 17,
   "id": "d58a879c",
   "metadata": {},
   "outputs": [
    {
     "ename": "TypeError",
     "evalue": "'float' object cannot be interpreted as an integer",
     "output_type": "error",
     "traceback": [
      "\u001b[31m---------------------------------------------------------------------------\u001b[39m",
      "\u001b[31mTypeError\u001b[39m                                 Traceback (most recent call last)",
      "\u001b[36mCell\u001b[39m\u001b[36m \u001b[39m\u001b[32mIn[17]\u001b[39m\u001b[32m, line 12\u001b[39m\n\u001b[32m      9\u001b[39m     \u001b[38;5;28mprint\u001b[39m(\u001b[33m\"\u001b[39m\u001b[33mprime\u001b[39m\u001b[33m\"\u001b[39m)\n\u001b[32m     11\u001b[39m num=\u001b[38;5;28mint\u001b[39m(\u001b[38;5;28minput\u001b[39m())\n\u001b[32m---> \u001b[39m\u001b[32m12\u001b[39m \u001b[43mprime\u001b[49m\u001b[43m(\u001b[49m\u001b[43mnum\u001b[49m\u001b[43m)\u001b[49m\n",
      "\u001b[36mCell\u001b[39m\u001b[36m \u001b[39m\u001b[32mIn[17]\u001b[39m\u001b[32m, line 4\u001b[39m, in \u001b[36mprime\u001b[39m\u001b[34m(n)\u001b[39m\n\u001b[32m      3\u001b[39m \u001b[38;5;28;01mdef\u001b[39;00m\u001b[38;5;250m \u001b[39m\u001b[34mprime\u001b[39m(n):\n\u001b[32m----> \u001b[39m\u001b[32m4\u001b[39m   \u001b[38;5;28;01mfor\u001b[39;00m i \u001b[38;5;129;01min\u001b[39;00m \u001b[38;5;28;43mrange\u001b[39;49m\u001b[43m(\u001b[49m\u001b[32;43m2\u001b[39;49m\u001b[43m,\u001b[49m\u001b[43mmath\u001b[49m\u001b[43m.\u001b[49m\u001b[43msqrt\u001b[49m\u001b[43m(\u001b[49m\u001b[43mn\u001b[49m\u001b[43m)\u001b[49m\u001b[43m)\u001b[49m:\n\u001b[32m      5\u001b[39m     \u001b[38;5;28;01mif\u001b[39;00m n%i==\u001b[32m0\u001b[39m:\n\u001b[32m      6\u001b[39m       \u001b[38;5;28mprint\u001b[39m(\u001b[33m\"\u001b[39m\u001b[33mnot prime\u001b[39m\u001b[33m\"\u001b[39m)\n",
      "\u001b[31mTypeError\u001b[39m: 'float' object cannot be interpreted as an integer"
     ]
    }
   ],
   "source": [
    "import math\n",
    "\n",
    "def prime(n):\n",
    "  for i in range(2,math.sqrt(n)):\n",
    "    if n%i==0:\n",
    "      print(\"not prime\")\n",
    "      break\n",
    "  else:\n",
    "    print(\"prime\")\n",
    "\n",
    "num=int(input())\n",
    "prime(num)"
   ]
  },
  {
   "cell_type": "code",
   "execution_count": 16,
   "id": "e051ad29",
   "metadata": {},
   "outputs": [
    {
     "name": "stdout",
     "output_type": "stream",
     "text": [
      "not prime\n"
     ]
    }
   ],
   "source": [
    "\n",
    "def prime(n):\n",
    "  for i in range(2,n):\n",
    "    if n%i==0:\n",
    "      print(\"not prime\")\n",
    "      break\n",
    "  else:\n",
    "    print(\"prime\")\n",
    "\n",
    "num=int(input())\n",
    "prime(num)"
   ]
  }
 ],
 "metadata": {
  "kernelspec": {
   "display_name": "Python 3",
   "language": "python",
   "name": "python3"
  },
  "language_info": {
   "codemirror_mode": {
    "name": "ipython",
    "version": 3
   },
   "file_extension": ".py",
   "mimetype": "text/x-python",
   "name": "python",
   "nbconvert_exporter": "python",
   "pygments_lexer": "ipython3",
   "version": "3.11.9"
  }
 },
 "nbformat": 4,
 "nbformat_minor": 5
}
