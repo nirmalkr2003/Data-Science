{
 "cells": [
  {
   "cell_type": "code",
   "execution_count": 4,
   "id": "21de151b",
   "metadata": {},
   "outputs": [
    {
     "name": "stdout",
     "output_type": "stream",
     "text": [
      "['apple', 'nirmal', 1, 52, 21.3]\n",
      "['apple', 'nirmal', 1, 52, 1.1, 2, 3, 4]\n",
      "['apple', 2, 3, 4]\n"
     ]
    }
   ],
   "source": [
    "l=['apple',1,52,21.3]\n",
    "l2=[1.1,2,3,4]\n",
    "l.insert(1,'nirmal')\n",
    "print(l)\n",
    "l.pop()\n",
    "l3=(l+l2)\n",
    "print(l3)\n",
    "del l3[1:5]\n",
    "print(l3)\n",
    "\n"
   ]
  },
  {
   "cell_type": "code",
   "execution_count": 6,
   "id": "3589488d",
   "metadata": {},
   "outputs": [
    {
     "name": "stdout",
     "output_type": "stream",
     "text": [
      "1 : Nirmal\n",
      "2 : Cijo\n",
      "3 : Rishana\n",
      "4 : Adithya\n",
      "{'1': 'Nirmal', '2': 'Cijo', '3': 'Rishana', '4': 'Adithya', '5': 'Mentor'}\n"
     ]
    }
   ],
   "source": [
    "d1={'1':'Nirmal','2':'Cijo','3':'Rishana','4':'Adithya'}\n",
    "for key,value in d1.items():\n",
    "  print(key,\":\",value)\n",
    "d1['5']=\"Mentor\"\n",
    "print(d1)"
   ]
  },
  {
   "cell_type": "code",
   "execution_count": 10,
   "id": "0b6428f2",
   "metadata": {},
   "outputs": [
    {
     "data": {
      "text/plain": [
       "720"
      ]
     },
     "execution_count": 10,
     "metadata": {},
     "output_type": "execute_result"
    }
   ],
   "source": [
    "def factorial(n):\n",
    "  if n<=1:\n",
    "    return 1\n",
    "  else:\n",
    "    return n*factorial(n-1)\n",
    "  \n",
    "num=int(input(\"enter\"))\n",
    "factorial(num)"
   ]
  },
  {
   "cell_type": "code",
   "execution_count": 1,
   "id": "d58a879c",
   "metadata": {},
   "outputs": [
    {
     "name": "stdout",
     "output_type": "stream",
     "text": [
      "not prime\n"
     ]
    }
   ],
   "source": [
    "import math\n",
    "\n",
    "def prime(n):\n",
    "    if n <= 1:\n",
    "        print(\"not prime\")\n",
    "        return\n",
    "    for i in range(2, int(math.sqrt(n)) + 1):\n",
    "        if n % i == 0:\n",
    "            print(\"not prime\")\n",
    "            break\n",
    "    else:\n",
    "        print(\"prime\")\n",
    "\n",
    "num = int(input(\"Enter a number: \"))\n",
    "prime(num)\n"
   ]
  },
  {
   "cell_type": "code",
   "execution_count": 16,
   "id": "e051ad29",
   "metadata": {},
   "outputs": [
    {
     "name": "stdout",
     "output_type": "stream",
     "text": [
      "not prime\n"
     ]
    }
   ],
   "source": [
    "\n",
    "def prime(n):\n",
    "  for i in range(2,n):\n",
    "    if n%i==0:\n",
    "      print(\"not prime\")\n",
    "      break\n",
    "  else:\n",
    "    print(\"prime\")\n",
    "\n",
    "num=int(input())\n",
    "prime(num)"
   ]
  }
 ],
 "metadata": {
  "kernelspec": {
   "display_name": "Python 3",
   "language": "python",
   "name": "python3"
  },
  "language_info": {
   "codemirror_mode": {
    "name": "ipython",
    "version": 3
   },
   "file_extension": ".py",
   "mimetype": "text/x-python",
   "name": "python",
   "nbconvert_exporter": "python",
   "pygments_lexer": "ipython3",
   "version": "3.11.9"
  }
 },
 "nbformat": 4,
 "nbformat_minor": 5
}
