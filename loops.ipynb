{
 "cells": [
  {
   "cell_type": "code",
   "execution_count": 6,
   "id": "748cc1d7",
   "metadata": {},
   "outputs": [
    {
     "name": "stdout",
     "output_type": "stream",
     "text": [
      "2\n",
      "4\n",
      "6\n",
      "8\n",
      "10\n",
      "12\n"
     ]
    }
   ],
   "source": [
    "n=int(input(\"enter a number:\"))\n",
    "for i in range(1,n+1):\n",
    "  if i%2==0:\n",
    "    print(i)\n"
   ]
  },
  {
   "cell_type": "code",
   "execution_count": null,
   "id": "acf48cab",
   "metadata": {},
   "outputs": [],
   "source": []
  },
  {
   "cell_type": "code",
   "execution_count": 2,
   "id": "be664941",
   "metadata": {},
   "outputs": [
    {
     "name": "stdout",
     "output_type": "stream",
     "text": [
      "1\n",
      "3\n",
      "5\n",
      "7\n",
      "9\n"
     ]
    }
   ],
   "source": [
    "n=10\n",
    "for i in range(1,n+1,2):\n",
    "  print(i)"
   ]
  },
  {
   "cell_type": "code",
   "execution_count": 1,
   "id": "db268611",
   "metadata": {},
   "outputs": [
    {
     "name": "stdout",
     "output_type": "stream",
     "text": [
      "2\n",
      "4\n",
      "6\n",
      "8\n",
      "10\n"
     ]
    }
   ],
   "source": [
    "l=[1,2,3,4,5,6,7,8,9,10]\n",
    "for i in l:\n",
    "    if i%2==0:\n",
    "        print(i)\n"
   ]
  },
  {
   "cell_type": "code",
   "execution_count": null,
   "id": "819541c8",
   "metadata": {},
   "outputs": [
    {
     "name": "stdout",
     "output_type": "stream",
     "text": [
      "0\n",
      "1\n",
      "2\n",
      "3\n",
      "4\n",
      "5\n",
      "6\n",
      "7\n",
      "8\n",
      "9\n"
     ]
    }
   ],
   "source": [
    "n=10\n",
    "for i in range(n+1):\n",
    "  print(i)"
   ]
  },
  {
   "cell_type": "code",
   "execution_count": 7,
   "id": "ec5ef1f5",
   "metadata": {},
   "outputs": [
    {
     "name": "stdout",
     "output_type": "stream",
     "text": [
      "15\n"
     ]
    }
   ],
   "source": [
    "n=int(input(\"enter the number\"))\n",
    "sum=0\n",
    "for i in range (1,n+1):\n",
    "  sum+=i\n",
    "\n",
    "print(sum)"
   ]
  },
  {
   "cell_type": "code",
   "execution_count": 9,
   "id": "8423f5ad",
   "metadata": {},
   "outputs": [
    {
     "name": "stdout",
     "output_type": "stream",
     "text": [
      "\n",
      "*\n",
      "**\n",
      "***\n",
      "****\n",
      "*****\n",
      "******\n",
      "*******\n"
     ]
    }
   ],
   "source": [
    "row=int(input())\n",
    "for i in range(row+1):\n",
    "  print(\"*\"*i)"
   ]
  },
  {
   "cell_type": "code",
   "execution_count": 13,
   "id": "93af9c5f",
   "metadata": {},
   "outputs": [
    {
     "name": "stdout",
     "output_type": "stream",
     "text": [
      "     *\n",
      "    ***\n",
      "   *****\n",
      "  *******\n",
      " *********\n",
      "***********\n"
     ]
    }
   ],
   "source": [
    "row=int(input())\n",
    "for i in range(1,row+1):\n",
    "  print(\" \" * (row-i) + \"*\" * (2*i-1))"
   ]
  },
  {
   "cell_type": "code",
   "execution_count": 19,
   "id": "500e635d",
   "metadata": {},
   "outputs": [
    {
     "name": "stdout",
     "output_type": "stream",
     "text": [
      "Count down: 5\n",
      "Count down: 4\n",
      "Count down: 3\n",
      "Count down: 2\n",
      "loop ended\n"
     ]
    }
   ],
   "source": [
    "n=5\n",
    "while n!=0:\n",
    "  print(\"Count down:\",n)\n",
    "  if n==2:\n",
    "    break\n",
    "  n-=1\n",
    "print(\"loop ended\")"
   ]
  },
  {
   "cell_type": "code",
   "execution_count": 27,
   "id": "7e46216f",
   "metadata": {},
   "outputs": [
    {
     "name": "stdout",
     "output_type": "stream",
     "text": [
      "hii nirmal\n",
      "hii aadi\n",
      "hii johns\n",
      "hii amal\n",
      "hello nirmal\n",
      "welcome nirmal\n",
      "welcome aadi\n",
      "welcome amal\n"
     ]
    }
   ],
   "source": [
    "l1=['nirmal','aadi','johns','amal']\n",
    "l2=['hii','hello','welcome']\n",
    "for i in l2:\n",
    "  for j in l1:\n",
    "    if i=='hello' and j=='aadi':\n",
    "      break\n",
    "    if i=='welcome' and j=='johns':\n",
    "      continue\n",
    "  # if i=='hii' and j=='aadi':\n",
    "  #   break\n",
    "    print(i,j)\n"
   ]
  },
  {
   "cell_type": "code",
   "execution_count": 23,
   "id": "1d7a9363",
   "metadata": {},
   "outputs": [
    {
     "name": "stdout",
     "output_type": "stream",
     "text": [
      "hello\n"
     ]
    }
   ],
   "source": [
    "a=12\n",
    "for i in range(a):\n",
    "  pass\n",
    "print(\"hello\")"
   ]
  },
  {
   "cell_type": "code",
   "execution_count": 34,
   "id": "fe04a35e",
   "metadata": {},
   "outputs": [
    {
     "name": "stdout",
     "output_type": "stream",
     "text": [
      "greater than or equal to 10\n",
      "its also odd\n"
     ]
    }
   ],
   "source": [
    "a=int(input())\n",
    "if a>=10:\n",
    "  print(\"greater than or equal to 10\")\n",
    "  if a%2==0:\n",
    "    print(\"its also even\")\n",
    "  else:\n",
    "    print(\"its also odd\")\n",
    "else:\n",
    "  print(\"less than 10\")"
   ]
  },
  {
   "cell_type": "code",
   "execution_count": null,
   "id": "2ae3f8f1",
   "metadata": {},
   "outputs": [
    {
     "name": "stdout",
     "output_type": "stream",
     "text": [
      "divisible by 3\n"
     ]
    }
   ],
   "source": [
    "num=int(input())\n",
    "if num%2==0:\n",
    "  if num%3==0:\n",
    "    print(\"divisible by bothe 2 and 3\")\n",
    "  else:\n",
    "    print(\"divisible by 2 only\")\n",
    "elif num%3==0:\n",
    "  print(\"divisible by 3\")\n",
    "\n",
    "else:\n",
    "  print(\"not by 3 and 2\")"
   ]
  }
 ],
 "metadata": {
  "kernelspec": {
   "display_name": "Python 3",
   "language": "python",
   "name": "python3"
  },
  "language_info": {
   "codemirror_mode": {
    "name": "ipython",
    "version": 3
   },
   "file_extension": ".py",
   "mimetype": "text/x-python",
   "name": "python",
   "nbconvert_exporter": "python",
   "pygments_lexer": "ipython3",
   "version": "3.11.9"
  }
 },
 "nbformat": 4,
 "nbformat_minor": 5
}
