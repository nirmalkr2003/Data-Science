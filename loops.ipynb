{
 "cells": [
  {
   "cell_type": "code",
   "execution_count": 6,
   "id": "748cc1d7",
   "metadata": {},
   "outputs": [
    {
     "name": "stdout",
     "output_type": "stream",
     "text": [
      "2\n",
      "4\n",
      "6\n",
      "8\n",
      "10\n",
      "12\n"
     ]
    }
   ],
   "source": [
    "n=int(input(\"enter a number:\"))\n",
    "for i in range(1,n+1):\n",
    "  if i%2==0:\n",
    "    print(i)\n"
   ]
  },
  {
   "cell_type": "code",
   "execution_count": null,
   "id": "acf48cab",
   "metadata": {},
   "outputs": [],
   "source": []
  },
  {
   "cell_type": "code",
   "execution_count": 2,
   "id": "be664941",
   "metadata": {},
   "outputs": [
    {
     "name": "stdout",
     "output_type": "stream",
     "text": [
      "1\n",
      "3\n",
      "5\n",
      "7\n",
      "9\n"
     ]
    }
   ],
   "source": [
    "n=10\n",
    "for i in range(1,n+1,2):\n",
    "  print(i)"
   ]
  },
  {
   "cell_type": "code",
   "execution_count": 1,
   "id": "db268611",
   "metadata": {},
   "outputs": [
    {
     "name": "stdout",
     "output_type": "stream",
     "text": [
      "2\n",
      "4\n",
      "6\n",
      "8\n",
      "10\n"
     ]
    }
   ],
   "source": [
    "l=[1,2,3,4,5,6,7,8,9,10]\n",
    "for i in l:\n",
    "    if i%2==0:\n",
    "        print(i)\n"
   ]
  },
  {
   "cell_type": "code",
   "execution_count": null,
   "id": "819541c8",
   "metadata": {},
   "outputs": [
    {
     "name": "stdout",
     "output_type": "stream",
     "text": [
      "0\n",
      "1\n",
      "2\n",
      "3\n",
      "4\n",
      "5\n",
      "6\n",
      "7\n",
      "8\n",
      "9\n"
     ]
    }
   ],
   "source": [
    "n=10\n",
    "for i in range(n+1):\n",
    "  print(i)"
   ]
  },
  {
   "cell_type": "code",
   "execution_count": 7,
   "id": "ec5ef1f5",
   "metadata": {},
   "outputs": [
    {
     "name": "stdout",
     "output_type": "stream",
     "text": [
      "15\n"
     ]
    }
   ],
   "source": [
    "n=int(input(\"enter the number\"))\n",
    "sum=0\n",
    "for i in range (1,n+1):\n",
    "  sum+=i\n",
    "\n",
    "print(sum)"
   ]
  },
  {
   "cell_type": "code",
   "execution_count": 9,
   "id": "8423f5ad",
   "metadata": {},
   "outputs": [
    {
     "name": "stdout",
     "output_type": "stream",
     "text": [
      "\n",
      "*\n",
      "**\n",
      "***\n",
      "****\n",
      "*****\n",
      "******\n",
      "*******\n"
     ]
    }
   ],
   "source": [
    "row=int(input())\n",
    "for i in range(row+1):\n",
    "  print(\"*\"*i)"
   ]
  },
  {
   "cell_type": "code",
   "execution_count": 13,
   "id": "93af9c5f",
   "metadata": {},
   "outputs": [
    {
     "name": "stdout",
     "output_type": "stream",
     "text": [
      "     *\n",
      "    ***\n",
      "   *****\n",
      "  *******\n",
      " *********\n",
      "***********\n"
     ]
    }
   ],
   "source": [
    "row=int(input())\n",
    "for i in range(1,row+1):\n",
    "  print(\" \" * (row-i) + \"*\" * (2*i-1))"
   ]
  },
  {
   "cell_type": "code",
   "execution_count": 19,
   "id": "500e635d",
   "metadata": {},
   "outputs": [
    {
     "name": "stdout",
     "output_type": "stream",
     "text": [
      "Count down: 5\n",
      "Count down: 4\n",
      "Count down: 3\n",
      "Count down: 2\n",
      "loop ended\n"
     ]
    }
   ],
   "source": [
    "n=5\n",
    "while n!=0:\n",
    "  print(\"Count down:\",n)\n",
    "  if n==2:\n",
    "    break\n",
    "  n-=1\n",
    "print(\"loop ended\")"
   ]
  },
  {
   "cell_type": "code",
   "execution_count": 27,
   "id": "7e46216f",
   "metadata": {},
   "outputs": [
    {
     "name": "stdout",
     "output_type": "stream",
     "text": [
      "hii nirmal\n",
      "hii aadi\n",
      "hii johns\n",
      "hii amal\n",
      "hello nirmal\n",
      "welcome nirmal\n",
      "welcome aadi\n",
      "welcome amal\n"
     ]
    }
   ],
   "source": [
    "l1=['nirmal','aadi','johns','amal']\n",
    "l2=['hii','hello','welcome']\n",
    "for i in l2:\n",
    "  for j in l1:\n",
    "    if i=='hello' and j=='aadi':\n",
    "      break\n",
    "    if i=='welcome' and j=='johns':\n",
    "      continue\n",
    "  # if i=='hii' and j=='aadi':\n",
    "  #   break\n",
    "    print(i,j)\n"
   ]
  },
  {
   "cell_type": "code",
   "execution_count": 23,
   "id": "1d7a9363",
   "metadata": {},
   "outputs": [
    {
     "name": "stdout",
     "output_type": "stream",
     "text": [
      "hello\n"
     ]
    }
   ],
   "source": [
    "a=12\n",
    "for i in range(a):\n",
    "  pass\n",
    "print(\"hello\")"
   ]
  },
  {
   "cell_type": "code",
   "execution_count": 34,
   "id": "fe04a35e",
   "metadata": {},
   "outputs": [
    {
     "name": "stdout",
     "output_type": "stream",
     "text": [
      "greater than or equal to 10\n",
      "its also odd\n"
     ]
    }
   ],
   "source": [
    "a=int(input())\n",
    "if a>=10:\n",
    "  print(\"greater than or equal to 10\")\n",
    "  if a%2==0:\n",
    "    print(\"its also even\")\n",
    "  else:\n",
    "    print(\"its also odd\")\n",
    "else:\n",
    "  print(\"less than 10\")"
   ]
  },
  {
   "cell_type": "code",
   "execution_count": null,
   "id": "2ae3f8f1",
   "metadata": {},
   "outputs": [
    {
     "name": "stdout",
     "output_type": "stream",
     "text": [
      "divisible by 3\n"
     ]
    }
   ],
   "source": [
    "num=int(input())\n",
    "if num%2==0:\n",
    "  if num%3==0:\n",
    "    print(\"divisible by bothe 2 and 3\")\n",
    "  else:\n",
    "    print(\"divisible by 2 only\")\n",
    "elif num%3==0:\n",
    "  print(\"divisible by 3\")\n",
    "\n",
    "else:\n",
    "  print(\"not by 3 and 2\")"
   ]
  },
  {
   "cell_type": "code",
   "execution_count": 1,
   "id": "8d612904",
   "metadata": {},
   "outputs": [
    {
     "name": "stdout",
     "output_type": "stream",
     "text": [
      "a new commit made\n"
     ]
    }
   ],
   "source": [
    "print(\"a new commit made\")"
   ]
  },
  {
   "cell_type": "code",
   "execution_count": 2,
   "id": "a849b3d1",
   "metadata": {},
   "outputs": [
    {
     "name": "stdout",
     "output_type": "stream",
     "text": [
      "2\n",
      "4\n",
      "6\n",
      "8\n"
     ]
    }
   ],
   "source": [
    "num=int(input(\"enter a no\"))\n",
    "for i in range(1,num+1):\n",
    "  if i%2==0:\n",
    "    print(i)"
   ]
  },
  {
   "cell_type": "code",
   "execution_count": 3,
   "id": "75f7f588",
   "metadata": {},
   "outputs": [
    {
     "name": "stdout",
     "output_type": "stream",
     "text": [
      "21\n"
     ]
    }
   ],
   "source": [
    "n=int(input(\"enter the number\"))\n",
    "sum=0\n",
    "for i in range (1,n+1):\n",
    "  sum+=i\n",
    "\n",
    "print(sum)"
   ]
  },
  {
   "cell_type": "code",
   "execution_count": 5,
   "id": "35f99c4a",
   "metadata": {},
   "outputs": [
    {
     "name": "stdout",
     "output_type": "stream",
     "text": [
      "s\n",
      "t\n",
      "r\n",
      "i\n",
      "n\n",
      "g\n"
     ]
    }
   ],
   "source": [
    "a=input(\"enter a string\")\n",
    "for i in a:\n",
    "  print(i)"
   ]
  },
  {
   "cell_type": "code",
   "execution_count": 6,
   "id": "1261bdec",
   "metadata": {},
   "outputs": [
    {
     "name": "stdout",
     "output_type": "stream",
     "text": [
      "5 * 1 = 5\n",
      "5 * 2 = 10\n",
      "5 * 3 = 15\n",
      "5 * 4 = 20\n",
      "5 * 5 = 25\n",
      "5 * 6 = 30\n",
      "5 * 7 = 35\n",
      "5 * 8 = 40\n",
      "5 * 9 = 45\n",
      "5 * 10 = 50\n"
     ]
    }
   ],
   "source": [
    "a=int(input(\"enter the number\"))\n",
    "for i in range (1,11):\n",
    "  print(a,\"*\",i,\"=\",a*i)"
   ]
  },
  {
   "cell_type": "code",
   "execution_count": 7,
   "id": "0e001ecc",
   "metadata": {},
   "outputs": [
    {
     "name": "stdout",
     "output_type": "stream",
     "text": [
      "3 * 1 = 3\n",
      "3 * 2 = 6\n",
      "3 * 3 = 9\n",
      "3 * 4 = 12\n",
      "3 * 5 = 15\n",
      "3 * 6 = 18\n",
      "3 * 7 = 21\n",
      "3 * 8 = 24\n",
      "3 * 9 = 27\n",
      "3 * 10 = 30\n"
     ]
    }
   ],
   "source": [
    "a=int(input(\"enter the number\"))\n",
    "i=1\n",
    "while i<=10:\n",
    "  print(a,\"*\",i,\"=\",a*i)\n",
    "  i+=1"
   ]
  },
  {
   "cell_type": "code",
   "execution_count": 8,
   "id": "c765e0a9",
   "metadata": {},
   "outputs": [
    {
     "name": "stdout",
     "output_type": "stream",
     "text": [
      "    *\n",
      "   ***\n",
      "  *****\n",
      " *******\n",
      "*********\n"
     ]
    }
   ],
   "source": [
    "row=int(input())\n",
    "for i in range(1,row+1):\n",
    "  print(\" \" * (row-i) + \"*\" * (2*i-1))"
   ]
  },
  {
   "cell_type": "code",
   "execution_count": 10,
   "id": "ec3f9b05",
   "metadata": {},
   "outputs": [
    {
     "name": "stdout",
     "output_type": "stream",
     "text": [
      "    *\n",
      "   ***\n",
      "  *****\n",
      " *******\n",
      "*********\n",
      " *******\n",
      "  *****\n",
      "   ***\n",
      "    *\n"
     ]
    }
   ],
   "source": [
    "rows = 5\n",
    "for i in range(1, rows + 1):\n",
    "    print(\" \" * (rows - i) + \"*\" * (2 * i - 1))\n",
    "    \n",
    "for i in range(rows - 1, 0, -1):\n",
    "    print(\" \" * (rows - i) + \"*\" * (2 * i - 1))\n"
   ]
  },
  {
   "cell_type": "code",
   "execution_count": null,
   "id": "6965bbd0",
   "metadata": {},
   "outputs": [
    {
     "name": "stdout",
     "output_type": "stream",
     "text": [
      "not prime\n"
     ]
    }
   ],
   "source": [
    "#7 ques\n",
    "\n",
    "num=int(input())\n",
    "is_prime=True\n",
    "\n",
    "if num<=1:\n",
    "  is_prime=False\n",
    "else:\n",
    "  for i in range(2,num):\n",
    "    if num%i==0:\n",
    "      is_prime=False\n",
    "      break\n",
    "\n",
    "if is_prime:\n",
    "  print(\"prime\")\n",
    "else:\n",
    "  print(\"not prime\")\n"
   ]
  },
  {
   "cell_type": "code",
   "execution_count": null,
   "id": "05fbfe02",
   "metadata": {},
   "outputs": [
    {
     "name": "stdout",
     "output_type": "stream",
     "text": [
      "factorial:  120\n"
     ]
    }
   ],
   "source": [
    "#8 ques\n",
    "\n",
    "num=int(input(\"enter a no\"))\n",
    "fact=1\n",
    "for i in range(num,0,-1):\n",
    "  fact*=i\n",
    "print(\"factorial: \",fact)"
   ]
  },
  {
   "cell_type": "code",
   "execution_count": null,
   "id": "52e3eb93",
   "metadata": {},
   "outputs": [
    {
     "name": "stdout",
     "output_type": "stream",
     "text": [
      "[]\n"
     ]
    }
   ],
   "source": [
    "#9 ques\n",
    "a=int(input())\n",
    "l1=[]\n",
    "if a%2==0:\n",
    "  l1.append(i)\n",
    "\n",
    "print(l1)"
   ]
  }
 ],
 "metadata": {
  "kernelspec": {
   "display_name": "Python 3",
   "language": "python",
   "name": "python3"
  },
  "language_info": {
   "codemirror_mode": {
    "name": "ipython",
    "version": 3
   },
   "file_extension": ".py",
   "mimetype": "text/x-python",
   "name": "python",
   "nbconvert_exporter": "python",
   "pygments_lexer": "ipython3",
   "version": "3.11.9"
  }
 },
 "nbformat": 4,
 "nbformat_minor": 5
}
