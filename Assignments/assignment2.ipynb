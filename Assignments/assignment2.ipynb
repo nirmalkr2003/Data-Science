{
 "cells": [
  {
   "cell_type": "markdown",
   "id": "49395a08",
   "metadata": {},
   "source": [
    "# Assignment-2"
   ]
  },
  {
   "cell_type": "markdown",
   "id": "71695cb7",
   "metadata": {},
   "source": [
    "1.Find Even Number In Python Using For Loop"
   ]
  },
  {
   "cell_type": "code",
   "execution_count": 2,
   "id": "b538996e",
   "metadata": {},
   "outputs": [
    {
     "name": "stdout",
     "output_type": "stream",
     "text": [
      "2\n",
      "4\n",
      "6\n",
      "8\n",
      "10\n",
      "12\n"
     ]
    }
   ],
   "source": [
    "num=int(input(\"enter a no\"))\n",
    "for i in range(1,num+1):\n",
    "  if i%2==0:\n",
    "    print(i)"
   ]
  },
  {
   "cell_type": "markdown",
   "id": "ebb03a07",
   "metadata": {},
   "source": [
    "2.Sum of First N Natural Numbers"
   ]
  },
  {
   "cell_type": "code",
   "execution_count": 19,
   "id": "395d702a",
   "metadata": {},
   "outputs": [
    {
     "name": "stdout",
     "output_type": "stream",
     "text": [
      "No:  17\n",
      "Sum:  153\n"
     ]
    }
   ],
   "source": [
    "n=int(input(\"enter the number\"))\n",
    "print(\"No: \",n)\n",
    "sum=0\n",
    "for i in range (1,n+1):\n",
    "  sum+=i\n",
    "\n",
    "print(\"Sum: \",sum)"
   ]
  },
  {
   "cell_type": "markdown",
   "id": "218f7e5c",
   "metadata": {},
   "source": [
    "3.Print Each Character in a String"
   ]
  },
  {
   "cell_type": "code",
   "execution_count": 21,
   "id": "86eb2243",
   "metadata": {},
   "outputs": [
    {
     "name": "stdout",
     "output_type": "stream",
     "text": [
      "Nirmal\n",
      "N\n",
      "i\n",
      "r\n",
      "m\n",
      "a\n",
      "l\n"
     ]
    }
   ],
   "source": [
    "a=input(\"enter a string\")\n",
    "print(a)\n",
    "for i in a:\n",
    "  print(i)"
   ]
  },
  {
   "cell_type": "markdown",
   "id": "637ff44d",
   "metadata": {},
   "source": [
    "4.Print multiplication table using for loop"
   ]
  },
  {
   "cell_type": "code",
   "execution_count": 22,
   "id": "1470e840",
   "metadata": {},
   "outputs": [
    {
     "name": "stdout",
     "output_type": "stream",
     "text": [
      "5 * 1 = 5\n",
      "5 * 2 = 10\n",
      "5 * 3 = 15\n",
      "5 * 4 = 20\n",
      "5 * 5 = 25\n",
      "5 * 6 = 30\n",
      "5 * 7 = 35\n",
      "5 * 8 = 40\n",
      "5 * 9 = 45\n",
      "5 * 10 = 50\n"
     ]
    }
   ],
   "source": [
    "a=int(input(\"enter the number\"))\n",
    "for i in range (1,11):\n",
    "  print(a,\"*\",i,\"=\",a*i)\n",
    "  "
   ]
  },
  {
   "cell_type": "markdown",
   "id": "64028f0c",
   "metadata": {},
   "source": [
    "5 Using While loop"
   ]
  },
  {
   "cell_type": "code",
   "execution_count": 23,
   "id": "9d575f95",
   "metadata": {},
   "outputs": [
    {
     "name": "stdout",
     "output_type": "stream",
     "text": [
      "7 * 1 = 7\n",
      "7 * 2 = 14\n",
      "7 * 3 = 21\n",
      "7 * 4 = 28\n",
      "7 * 5 = 35\n",
      "7 * 6 = 42\n",
      "7 * 7 = 49\n",
      "7 * 8 = 56\n",
      "7 * 9 = 63\n",
      "7 * 10 = 70\n"
     ]
    }
   ],
   "source": [
    "a=int(input(\"enter the number\"))\n",
    "i=1\n",
    "while i<=10:\n",
    "  print(a,\"*\",i,\"=\",a*i)\n",
    "  i+=1"
   ]
  },
  {
   "cell_type": "markdown",
   "id": "7af2d174",
   "metadata": {},
   "source": [
    "6.Write program to print any two * patterns"
   ]
  },
  {
   "cell_type": "code",
   "execution_count": 24,
   "id": "e3a75815",
   "metadata": {},
   "outputs": [
    {
     "name": "stdout",
     "output_type": "stream",
     "text": [
      "    *\n",
      "   ***\n",
      "  *****\n",
      " *******\n",
      "*********\n"
     ]
    }
   ],
   "source": [
    "row=int(input())\n",
    "for i in range(1,row+1):\n",
    "  print(\" \" * (row-i) + \"*\" * (2*i-1))"
   ]
  },
  {
   "cell_type": "code",
   "execution_count": 27,
   "id": "84c43612",
   "metadata": {},
   "outputs": [
    {
     "name": "stdout",
     "output_type": "stream",
     "text": [
      "     *\n",
      "    ***\n",
      "   *****\n",
      "  *******\n",
      " *********\n",
      "***********\n",
      " *********\n",
      "  *******\n",
      "   *****\n",
      "    ***\n",
      "     *\n"
     ]
    }
   ],
   "source": [
    "rows=int(input())\n",
    "for i in range(1, rows + 1):\n",
    "    print(\" \" * (rows - i) + \"*\" * (2 * i - 1))\n",
    "    \n",
    "for i in range(rows - 1, 0, -1):\n",
    "    print(\" \" * (rows - i) + \"*\" * (2 * i - 1))"
   ]
  },
  {
   "cell_type": "markdown",
   "id": "487bfb1a",
   "metadata": {},
   "source": [
    "7.check prime or not"
   ]
  },
  {
   "cell_type": "code",
   "execution_count": 29,
   "id": "c92db673",
   "metadata": {},
   "outputs": [
    {
     "name": "stdout",
     "output_type": "stream",
     "text": [
      "Number:  17\n",
      "prime\n"
     ]
    }
   ],
   "source": [
    "num=int(input())\n",
    "print(\"Number: \",num)\n",
    "is_prime=True\n",
    "\n",
    "if num<=1:\n",
    "  is_prime=False\n",
    "else:\n",
    "  for i in range(2,num):\n",
    "    if num%i==0:\n",
    "      is_prime=False\n",
    "      break\n",
    "\n",
    "if is_prime:\n",
    "  print(\"prime\")\n",
    "else:\n",
    "  print(\"not prime\")"
   ]
  },
  {
   "cell_type": "markdown",
   "id": "7b344d8d",
   "metadata": {},
   "source": [
    "8.Python program to find the factorial of a number provided by the user."
   ]
  },
  {
   "cell_type": "code",
   "execution_count": 30,
   "id": "7cc14d08",
   "metadata": {},
   "outputs": [
    {
     "name": "stdout",
     "output_type": "stream",
     "text": [
      "factorial:  479001600\n"
     ]
    }
   ],
   "source": [
    "num=int(input(\"enter a no\"))\n",
    "fact=1\n",
    "for i in range(num,0,-1):\n",
    "  fact*=i\n",
    "print(\"factorial: \",fact)"
   ]
  },
  {
   "cell_type": "markdown",
   "id": "480f32d5",
   "metadata": {},
   "source": [
    "9.We will the input() function to ask the user to enter an integer and that integer will only be appended to list if it's even."
   ]
  },
  {
   "cell_type": "code",
   "execution_count": 34,
   "id": "3c9718ab",
   "metadata": {},
   "outputs": [
    {
     "name": "stdout",
     "output_type": "stream",
     "text": [
      "appended\n",
      "[44]\n"
     ]
    }
   ],
   "source": [
    "a=int(input())\n",
    "\n",
    "l1=[]\n",
    "if a%2==0:\n",
    "  l1.append(a)\n",
    "  print(\"appended\")\n",
    "else:\n",
    "  print(\"not an even no therefore not appended\")\n",
    "\n",
    "print(l1)"
   ]
  },
  {
   "cell_type": "markdown",
   "id": "ddf531c6",
   "metadata": {},
   "source": [
    "10.Print first 10 terms in fibonacci series"
   ]
  },
  {
   "cell_type": "code",
   "execution_count": 9,
   "id": "fdda9f9c",
   "metadata": {},
   "outputs": [
    {
     "name": "stdout",
     "output_type": "stream",
     "text": [
      "0 1 1 2 3 5 8 13 21 34 "
     ]
    }
   ],
   "source": [
    "n = 10\n",
    "a, b = 0, 1\n",
    "for i in range(n):\n",
    "    print(a, end=\" \")\n",
    "    a, b = b, a + b\n"
   ]
  },
  {
   "cell_type": "code",
   "execution_count": 11,
   "id": "966fc584",
   "metadata": {},
   "outputs": [
    {
     "name": "stdout",
     "output_type": "stream",
     "text": [
      "0 1 1 2 3 5 8 13 21 34 "
     ]
    }
   ],
   "source": [
    "n = 10\n",
    "a, b = 0, 1\n",
    "for i in range(n):\n",
    "    print(a, end=\" \")\n",
    "    c = a + b\n",
    "    a = b\n",
    "    b = c\n"
   ]
  }
 ],
 "metadata": {
  "kernelspec": {
   "display_name": "Python 3",
   "language": "python",
   "name": "python3"
  },
  "language_info": {
   "codemirror_mode": {
    "name": "ipython",
    "version": 3
   },
   "file_extension": ".py",
   "mimetype": "text/x-python",
   "name": "python",
   "nbconvert_exporter": "python",
   "pygments_lexer": "ipython3",
   "version": "3.11.9"
  }
 },
 "nbformat": 4,
 "nbformat_minor": 5
}
