{
 "cells": [
  {
   "cell_type": "markdown",
   "id": "1469f5d4",
   "metadata": {},
   "source": [
    "# 1.Read the CSV File"
   ]
  },
  {
   "cell_type": "code",
   "execution_count": 27,
   "id": "06020650",
   "metadata": {},
   "outputs": [],
   "source": [
    "import pandas as pd\n",
    "\n",
    "df=pd.read_csv(\"pandas_dataset_assignment.csv\")"
   ]
  },
  {
   "cell_type": "markdown",
   "id": "d705761a",
   "metadata": {},
   "source": [
    "# 2 Basic Operations"
   ]
  },
  {
   "cell_type": "code",
   "execution_count": 6,
   "id": "2ef53f49",
   "metadata": {},
   "outputs": [
    {
     "data": {
      "text/html": [
       "<div>\n",
       "<style scoped>\n",
       "    .dataframe tbody tr th:only-of-type {\n",
       "        vertical-align: middle;\n",
       "    }\n",
       "\n",
       "    .dataframe tbody tr th {\n",
       "        vertical-align: top;\n",
       "    }\n",
       "\n",
       "    .dataframe thead th {\n",
       "        text-align: right;\n",
       "    }\n",
       "</style>\n",
       "<table border=\"1\" class=\"dataframe\">\n",
       "  <thead>\n",
       "    <tr style=\"text-align: right;\">\n",
       "      <th></th>\n",
       "      <th>CustomerID</th>\n",
       "      <th>Age</th>\n",
       "      <th>Gender</th>\n",
       "      <th>Income</th>\n",
       "      <th>Department</th>\n",
       "      <th>SatisfactionScore</th>\n",
       "    </tr>\n",
       "  </thead>\n",
       "  <tbody>\n",
       "    <tr>\n",
       "      <th>0</th>\n",
       "      <td>CUST1000</td>\n",
       "      <td>56</td>\n",
       "      <td>Male</td>\n",
       "      <td>78984</td>\n",
       "      <td>Marketing</td>\n",
       "      <td>1</td>\n",
       "    </tr>\n",
       "    <tr>\n",
       "      <th>1</th>\n",
       "      <td>CUST1001</td>\n",
       "      <td>46</td>\n",
       "      <td>Female</td>\n",
       "      <td>70774</td>\n",
       "      <td>IT</td>\n",
       "      <td>8</td>\n",
       "    </tr>\n",
       "    <tr>\n",
       "      <th>2</th>\n",
       "      <td>CUST1002</td>\n",
       "      <td>32</td>\n",
       "      <td>Female</td>\n",
       "      <td>32568</td>\n",
       "      <td>Marketing</td>\n",
       "      <td>1</td>\n",
       "    </tr>\n",
       "    <tr>\n",
       "      <th>3</th>\n",
       "      <td>CUST1003</td>\n",
       "      <td>25</td>\n",
       "      <td>Female</td>\n",
       "      <td>92592</td>\n",
       "      <td>Finance</td>\n",
       "      <td>1</td>\n",
       "    </tr>\n",
       "    <tr>\n",
       "      <th>4</th>\n",
       "      <td>CUST1004</td>\n",
       "      <td>38</td>\n",
       "      <td>Female</td>\n",
       "      <td>97563</td>\n",
       "      <td>Marketing</td>\n",
       "      <td>2</td>\n",
       "    </tr>\n",
       "  </tbody>\n",
       "</table>\n",
       "</div>"
      ],
      "text/plain": [
       "  CustomerID  Age  Gender  Income Department  SatisfactionScore\n",
       "0   CUST1000   56    Male   78984  Marketing                  1\n",
       "1   CUST1001   46  Female   70774         IT                  8\n",
       "2   CUST1002   32  Female   32568  Marketing                  1\n",
       "3   CUST1003   25  Female   92592    Finance                  1\n",
       "4   CUST1004   38  Female   97563  Marketing                  2"
      ]
     },
     "execution_count": 6,
     "metadata": {},
     "output_type": "execute_result"
    }
   ],
   "source": [
    "df.head()\n"
   ]
  },
  {
   "cell_type": "code",
   "execution_count": 7,
   "id": "8595d358",
   "metadata": {},
   "outputs": [
    {
     "data": {
      "text/html": [
       "<div>\n",
       "<style scoped>\n",
       "    .dataframe tbody tr th:only-of-type {\n",
       "        vertical-align: middle;\n",
       "    }\n",
       "\n",
       "    .dataframe tbody tr th {\n",
       "        vertical-align: top;\n",
       "    }\n",
       "\n",
       "    .dataframe thead th {\n",
       "        text-align: right;\n",
       "    }\n",
       "</style>\n",
       "<table border=\"1\" class=\"dataframe\">\n",
       "  <thead>\n",
       "    <tr style=\"text-align: right;\">\n",
       "      <th></th>\n",
       "      <th>CustomerID</th>\n",
       "      <th>Age</th>\n",
       "      <th>Gender</th>\n",
       "      <th>Income</th>\n",
       "      <th>Department</th>\n",
       "      <th>SatisfactionScore</th>\n",
       "    </tr>\n",
       "  </thead>\n",
       "  <tbody>\n",
       "    <tr>\n",
       "      <th>45</th>\n",
       "      <td>CUST1045</td>\n",
       "      <td>45</td>\n",
       "      <td>Male</td>\n",
       "      <td>84268</td>\n",
       "      <td>Finance</td>\n",
       "      <td>2</td>\n",
       "    </tr>\n",
       "    <tr>\n",
       "      <th>46</th>\n",
       "      <td>CUST1046</td>\n",
       "      <td>24</td>\n",
       "      <td>Male</td>\n",
       "      <td>117939</td>\n",
       "      <td>HR</td>\n",
       "      <td>8</td>\n",
       "    </tr>\n",
       "    <tr>\n",
       "      <th>47</th>\n",
       "      <td>CUST1047</td>\n",
       "      <td>25</td>\n",
       "      <td>Male</td>\n",
       "      <td>48141</td>\n",
       "      <td>IT</td>\n",
       "      <td>1</td>\n",
       "    </tr>\n",
       "    <tr>\n",
       "      <th>48</th>\n",
       "      <td>CUST1048</td>\n",
       "      <td>52</td>\n",
       "      <td>Male</td>\n",
       "      <td>110356</td>\n",
       "      <td>Sales</td>\n",
       "      <td>9</td>\n",
       "    </tr>\n",
       "    <tr>\n",
       "      <th>49</th>\n",
       "      <td>CUST1049</td>\n",
       "      <td>31</td>\n",
       "      <td>Male</td>\n",
       "      <td>101910</td>\n",
       "      <td>Marketing</td>\n",
       "      <td>9</td>\n",
       "    </tr>\n",
       "  </tbody>\n",
       "</table>\n",
       "</div>"
      ],
      "text/plain": [
       "   CustomerID  Age Gender  Income Department  SatisfactionScore\n",
       "45   CUST1045   45   Male   84268    Finance                  2\n",
       "46   CUST1046   24   Male  117939         HR                  8\n",
       "47   CUST1047   25   Male   48141         IT                  1\n",
       "48   CUST1048   52   Male  110356      Sales                  9\n",
       "49   CUST1049   31   Male  101910  Marketing                  9"
      ]
     },
     "execution_count": 7,
     "metadata": {},
     "output_type": "execute_result"
    }
   ],
   "source": [
    "df.tail()"
   ]
  },
  {
   "cell_type": "code",
   "execution_count": 8,
   "id": "3d8d544f",
   "metadata": {},
   "outputs": [
    {
     "name": "stdout",
     "output_type": "stream",
     "text": [
      "<class 'pandas.core.frame.DataFrame'>\n",
      "RangeIndex: 50 entries, 0 to 49\n",
      "Data columns (total 6 columns):\n",
      " #   Column             Non-Null Count  Dtype \n",
      "---  ------             --------------  ----- \n",
      " 0   CustomerID         50 non-null     object\n",
      " 1   Age                50 non-null     int64 \n",
      " 2   Gender             50 non-null     object\n",
      " 3   Income             50 non-null     int64 \n",
      " 4   Department         50 non-null     object\n",
      " 5   SatisfactionScore  50 non-null     int64 \n",
      "dtypes: int64(3), object(3)\n",
      "memory usage: 2.5+ KB\n"
     ]
    }
   ],
   "source": [
    "df.info()"
   ]
  },
  {
   "cell_type": "code",
   "execution_count": 14,
   "id": "6987456c",
   "metadata": {},
   "outputs": [
    {
     "name": "stdout",
     "output_type": "stream",
     "text": [
      "Shape (rows, cols): (50, 6)\n",
      "Total elements: 300\n"
     ]
    }
   ],
   "source": [
    "print(\"Shape (rows, cols):\", df.shape)\n",
    "print(\"Total elements:\", df.size)\n"
   ]
  },
  {
   "cell_type": "code",
   "execution_count": 20,
   "id": "43f8163d",
   "metadata": {},
   "outputs": [
    {
     "data": {
      "text/plain": [
       "Index(['CustomerID', 'Age', 'Gender', 'Income', 'Department',\n",
       "       'SatisfactionScore'],\n",
       "      dtype='object')"
      ]
     },
     "execution_count": 20,
     "metadata": {},
     "output_type": "execute_result"
    }
   ],
   "source": [
    "df.columns"
   ]
  },
  {
   "cell_type": "code",
   "execution_count": 18,
   "id": "00737890",
   "metadata": {},
   "outputs": [
    {
     "name": "stdout",
     "output_type": "stream",
     "text": [
      "Column names: ['CustomerID', 'Age', 'Gender', 'Income', 'Department', 'SatisfactionScore']\n",
      "\n",
      "Data types:\n",
      " CustomerID           object\n",
      "Age                   int64\n",
      "Gender               object\n",
      "Income                int64\n",
      "Department           object\n",
      "SatisfactionScore     int64\n",
      "dtype: object\n"
     ]
    }
   ],
   "source": [
    "print(\"Column names:\", df.columns.tolist())\n",
    "print()\n",
    "print(\"Data types:\\n\", df.dtypes)\n"
   ]
  },
  {
   "cell_type": "code",
   "execution_count": 21,
   "id": "0a7394d4",
   "metadata": {},
   "outputs": [
    {
     "name": "stdout",
     "output_type": "stream",
     "text": [
      "             Age        Income  SatisfactionScore\n",
      "count  50.000000      50.00000          50.000000\n",
      "mean   37.540000   76207.52000           4.800000\n",
      "std    11.754652   28918.67188           2.849991\n",
      "min    19.000000   30206.00000           1.000000\n",
      "25%    28.000000   52851.25000           2.000000\n",
      "50%    38.000000   79499.50000           4.500000\n",
      "75%    45.000000  101580.50000           7.000000\n",
      "max    59.000000  119135.00000          10.000000\n"
     ]
    }
   ],
   "source": [
    "print(df.describe()) "
   ]
  },
  {
   "cell_type": "code",
   "execution_count": 22,
   "id": "1abd40b8",
   "metadata": {},
   "outputs": [
    {
     "data": {
      "text/plain": [
       "CustomerID           0\n",
       "Age                  0\n",
       "Gender               0\n",
       "Income               0\n",
       "Department           0\n",
       "SatisfactionScore    0\n",
       "dtype: int64"
      ]
     },
     "execution_count": 22,
     "metadata": {},
     "output_type": "execute_result"
    }
   ],
   "source": [
    "df.isnull().sum()"
   ]
  },
  {
   "cell_type": "code",
   "execution_count": 25,
   "id": "9b3a168d",
   "metadata": {},
   "outputs": [
    {
     "data": {
      "text/plain": [
       "array([['CUST1000', 56, 'Male', 78984, 'Marketing', 1],\n",
       "       ['CUST1001', 46, 'Female', 70774, 'IT', 8],\n",
       "       ['CUST1002', 32, 'Female', 32568, 'Marketing', 1],\n",
       "       ['CUST1003', 25, 'Female', 92592, 'Finance', 1],\n",
       "       ['CUST1004', 38, 'Female', 97563, 'Marketing', 2],\n",
       "       ['CUST1005', 56, 'Female', 32695, 'IT', 2],\n",
       "       ['CUST1006', 36, 'Female', 78190, 'IT', 6],\n",
       "       ['CUST1007', 40, 'Female', 35258, 'Finance', 7],\n",
       "       ['CUST1008', 28, 'Female', 117538, 'HR', 5],\n",
       "       ['CUST1009', 28, 'Female', 69504, 'HR', 1],\n",
       "       ['CUST1010', 41, 'Female', 63159, 'Marketing', 1],\n",
       "       ['CUST1011', 53, 'Female', 43986, 'Sales', 3],\n",
       "       ['CUST1012', 57, 'Male', 91858, 'Marketing', 2],\n",
       "       ['CUST1013', 41, 'Male', 42666, 'Finance', 5],\n",
       "       ['CUST1014', 20, 'Female', 68660, 'Finance', 10],\n",
       "       ['CUST1015', 39, 'Female', 33561, 'Finance', 6],\n",
       "       ['CUST1016', 19, 'Female', 56854, 'Finance', 7],\n",
       "       ['CUST1017', 41, 'Female', 94505, 'Finance', 4],\n",
       "       ['CUST1018', 47, 'Female', 82251, 'IT', 7],\n",
       "       ['CUST1019', 55, 'Female', 52662, 'HR', 8],\n",
       "       ['CUST1020', 19, 'Female', 38392, 'Finance', 1],\n",
       "       ['CUST1021', 38, 'Female', 60535, 'Sales', 6],\n",
       "       ['CUST1022', 50, 'Male', 108603, 'Sales', 8],\n",
       "       ['CUST1023', 29, 'Female', 82256, 'Sales', 5],\n",
       "       ['CUST1024', 39, 'Male', 119135, 'Sales', 4],\n",
       "       ['CUST1025', 42, 'Female', 65222, 'IT', 2],\n",
       "       ['CUST1026', 44, 'Female', 107373, 'Sales', 6],\n",
       "       ['CUST1027', 59, 'Male', 109575, 'Finance', 6],\n",
       "       ['CUST1028', 45, 'Female', 114651, 'Marketing', 1],\n",
       "       ['CUST1029', 33, 'Male', 93335, 'Sales', 9],\n",
       "       ['CUST1030', 32, 'Female', 40965, 'IT', 6],\n",
       "       ['CUST1031', 20, 'Female', 54538, 'IT', 3],\n",
       "       ['CUST1032', 54, 'Male', 100592, 'Sales', 4],\n",
       "       ['CUST1033', 24, 'Female', 38110, 'Marketing', 4],\n",
       "       ['CUST1034', 38, 'Male', 109309, 'Sales', 3],\n",
       "       ['CUST1035', 26, 'Female', 57266, 'IT', 10],\n",
       "       ['CUST1036', 56, 'Male', 82992, 'HR', 3],\n",
       "       ['CUST1037', 35, 'Male', 112948, 'Finance', 3],\n",
       "       ['CUST1038', 21, 'Female', 36910, 'IT', 4],\n",
       "       ['CUST1039', 42, 'Female', 30206, 'Sales', 7],\n",
       "       ['CUST1040', 31, 'Male', 117054, 'Finance', 4],\n",
       "       ['CUST1041', 26, 'Female', 117897, 'Sales', 9],\n",
       "       ['CUST1042', 43, 'Female', 53419, 'Sales', 1],\n",
       "       ['CUST1043', 19, 'Female', 80636, 'HR', 8],\n",
       "       ['CUST1044', 37, 'Male', 80015, 'Finance', 7],\n",
       "       ['CUST1045', 45, 'Male', 84268, 'Finance', 2],\n",
       "       ['CUST1046', 24, 'Male', 117939, 'HR', 8],\n",
       "       ['CUST1047', 25, 'Male', 48141, 'IT', 1],\n",
       "       ['CUST1048', 52, 'Male', 110356, 'Sales', 9],\n",
       "       ['CUST1049', 31, 'Male', 101910, 'Marketing', 9]], dtype=object)"
      ]
     },
     "execution_count": 25,
     "metadata": {},
     "output_type": "execute_result"
    }
   ],
   "source": [
    "df.values"
   ]
  },
  {
   "cell_type": "code",
   "execution_count": 24,
   "id": "2b65a58b",
   "metadata": {},
   "outputs": [
    {
     "data": {
      "text/html": [
       "<div>\n",
       "<style scoped>\n",
       "    .dataframe tbody tr th:only-of-type {\n",
       "        vertical-align: middle;\n",
       "    }\n",
       "\n",
       "    .dataframe tbody tr th {\n",
       "        vertical-align: top;\n",
       "    }\n",
       "\n",
       "    .dataframe thead th {\n",
       "        text-align: right;\n",
       "    }\n",
       "</style>\n",
       "<table border=\"1\" class=\"dataframe\">\n",
       "  <thead>\n",
       "    <tr style=\"text-align: right;\">\n",
       "      <th></th>\n",
       "      <th>Age</th>\n",
       "      <th>Income</th>\n",
       "      <th>SatisfactionScore</th>\n",
       "    </tr>\n",
       "  </thead>\n",
       "  <tbody>\n",
       "    <tr>\n",
       "      <th>Age</th>\n",
       "      <td>1.000000</td>\n",
       "      <td>0.132233</td>\n",
       "      <td>-0.128295</td>\n",
       "    </tr>\n",
       "    <tr>\n",
       "      <th>Income</th>\n",
       "      <td>0.132233</td>\n",
       "      <td>1.000000</td>\n",
       "      <td>0.144261</td>\n",
       "    </tr>\n",
       "    <tr>\n",
       "      <th>SatisfactionScore</th>\n",
       "      <td>-0.128295</td>\n",
       "      <td>0.144261</td>\n",
       "      <td>1.000000</td>\n",
       "    </tr>\n",
       "  </tbody>\n",
       "</table>\n",
       "</div>"
      ],
      "text/plain": [
       "                        Age    Income  SatisfactionScore\n",
       "Age                1.000000  0.132233          -0.128295\n",
       "Income             0.132233  1.000000           0.144261\n",
       "SatisfactionScore -0.128295  0.144261           1.000000"
      ]
     },
     "execution_count": 24,
     "metadata": {},
     "output_type": "execute_result"
    }
   ],
   "source": [
    "df.corr(numeric_only=True)"
   ]
  },
  {
   "cell_type": "code",
   "execution_count": 26,
   "id": "8efc9765",
   "metadata": {},
   "outputs": [
    {
     "name": "stdout",
     "output_type": "stream",
     "text": [
      "RangeIndex(start=0, stop=50, step=1)\n"
     ]
    }
   ],
   "source": [
    "print(df.index)\n"
   ]
  },
  {
   "cell_type": "markdown",
   "id": "79f789c7",
   "metadata": {},
   "source": [
    "# 3 Apply functions valuecounts,unique on any categorical column"
   ]
  },
  {
   "cell_type": "code",
   "execution_count": 31,
   "id": "10b6e6d6",
   "metadata": {},
   "outputs": [
    {
     "name": "stdout",
     "output_type": "stream",
     "text": [
      "Department\n",
      "Finance      13\n",
      "Sales        13\n",
      "IT           10\n",
      "Marketing     8\n",
      "HR            6\n",
      "Name: count, dtype: int64\n"
     ]
    }
   ],
   "source": [
    "\n",
    "print(df[\"Department\"].value_counts())"
   ]
  },
  {
   "cell_type": "code",
   "execution_count": 36,
   "id": "ab5161c6",
   "metadata": {},
   "outputs": [
    {
     "name": "stdout",
     "output_type": "stream",
     "text": [
      "Unique Dep:  ['Marketing' 'IT' 'Finance' 'HR' 'Sales']\n"
     ]
    }
   ],
   "source": [
    "print(\"Unique Dep: \", df[\"Department\"].unique())"
   ]
  },
  {
   "cell_type": "markdown",
   "id": "118428e1",
   "metadata": {},
   "source": [
    "# 4 Filter the data frame having satisfaction score greater than 3"
   ]
  },
  {
   "cell_type": "code",
   "execution_count": 37,
   "id": "d99dc426",
   "metadata": {},
   "outputs": [
    {
     "name": "stdout",
     "output_type": "stream",
     "text": [
      "   CustomerID  Age  Gender  Income Department  SatisfactionScore\n",
      "1    CUST1001   46  Female   70774         IT                  8\n",
      "6    CUST1006   36  Female   78190         IT                  6\n",
      "7    CUST1007   40  Female   35258    Finance                  7\n",
      "8    CUST1008   28  Female  117538         HR                  5\n",
      "13   CUST1013   41    Male   42666    Finance                  5\n",
      "14   CUST1014   20  Female   68660    Finance                 10\n",
      "15   CUST1015   39  Female   33561    Finance                  6\n",
      "16   CUST1016   19  Female   56854    Finance                  7\n",
      "17   CUST1017   41  Female   94505    Finance                  4\n",
      "18   CUST1018   47  Female   82251         IT                  7\n",
      "19   CUST1019   55  Female   52662         HR                  8\n",
      "21   CUST1021   38  Female   60535      Sales                  6\n",
      "22   CUST1022   50    Male  108603      Sales                  8\n",
      "23   CUST1023   29  Female   82256      Sales                  5\n",
      "24   CUST1024   39    Male  119135      Sales                  4\n",
      "26   CUST1026   44  Female  107373      Sales                  6\n",
      "27   CUST1027   59    Male  109575    Finance                  6\n",
      "29   CUST1029   33    Male   93335      Sales                  9\n",
      "30   CUST1030   32  Female   40965         IT                  6\n",
      "32   CUST1032   54    Male  100592      Sales                  4\n",
      "33   CUST1033   24  Female   38110  Marketing                  4\n",
      "35   CUST1035   26  Female   57266         IT                 10\n",
      "38   CUST1038   21  Female   36910         IT                  4\n",
      "39   CUST1039   42  Female   30206      Sales                  7\n",
      "40   CUST1040   31    Male  117054    Finance                  4\n",
      "41   CUST1041   26  Female  117897      Sales                  9\n",
      "43   CUST1043   19  Female   80636         HR                  8\n",
      "44   CUST1044   37    Male   80015    Finance                  7\n",
      "46   CUST1046   24    Male  117939         HR                  8\n",
      "48   CUST1048   52    Male  110356      Sales                  9\n",
      "49   CUST1049   31    Male  101910  Marketing                  9\n"
     ]
    }
   ],
   "source": [
    "print(df[df[\"SatisfactionScore\"]>3])"
   ]
  },
  {
   "cell_type": "markdown",
   "id": "98e41f67",
   "metadata": {},
   "source": [
    "# 5 Find out the average income of each department"
   ]
  },
  {
   "cell_type": "code",
   "execution_count": 38,
   "id": "69298246",
   "metadata": {},
   "outputs": [
    {
     "name": "stdout",
     "output_type": "stream",
     "text": [
      "Department\n",
      "Finance      74334.461538\n",
      "HR           86878.500000\n",
      "IT           56695.200000\n",
      "Marketing    77350.375000\n",
      "Sales        87461.692308\n",
      "Name: Income, dtype: float64\n"
     ]
    }
   ],
   "source": [
    "print(df.groupby(\"Department\")[\"Income\"].mean())"
   ]
  },
  {
   "cell_type": "markdown",
   "id": "6d8ca740",
   "metadata": {},
   "source": [
    "# 6 Loc the rows from 0-5 and first 3 column using loc and iloc"
   ]
  },
  {
   "cell_type": "code",
   "execution_count": 41,
   "id": "73991dd9",
   "metadata": {},
   "outputs": [
    {
     "name": "stdout",
     "output_type": "stream",
     "text": [
      "  CustomerID  Age  Gender\n",
      "0   CUST1000   56    Male\n",
      "1   CUST1001   46  Female\n",
      "2   CUST1002   32  Female\n",
      "3   CUST1003   25  Female\n",
      "4   CUST1004   38  Female\n",
      "5   CUST1005   56  Female\n"
     ]
    }
   ],
   "source": [
    "print(df.iloc[0:6,0:3])"
   ]
  },
  {
   "cell_type": "code",
   "execution_count": 44,
   "id": "8fe6361c",
   "metadata": {},
   "outputs": [
    {
     "name": "stdout",
     "output_type": "stream",
     "text": [
      "  CustomerID  Age  Gender\n",
      "0   CUST1000   56    Male\n",
      "1   CUST1001   46  Female\n",
      "2   CUST1002   32  Female\n",
      "3   CUST1003   25  Female\n",
      "4   CUST1004   38  Female\n",
      "5   CUST1005   56  Female\n"
     ]
    }
   ],
   "source": [
    "print(df.loc[0:5, [\"CustomerID\", \"Age\", \"Gender\"]])\n"
   ]
  },
  {
   "cell_type": "markdown",
   "id": "3da5214d",
   "metadata": {},
   "source": [
    "# 7 Select column id,age,gender"
   ]
  },
  {
   "cell_type": "code",
   "execution_count": 46,
   "id": "7aead812",
   "metadata": {},
   "outputs": [
    {
     "name": "stdout",
     "output_type": "stream",
     "text": [
      "   CustomerID  Age  Gender\n",
      "0    CUST1000   56    Male\n",
      "1    CUST1001   46  Female\n",
      "2    CUST1002   32  Female\n",
      "3    CUST1003   25  Female\n",
      "4    CUST1004   38  Female\n",
      "5    CUST1005   56  Female\n",
      "6    CUST1006   36  Female\n",
      "7    CUST1007   40  Female\n",
      "8    CUST1008   28  Female\n",
      "9    CUST1009   28  Female\n",
      "10   CUST1010   41  Female\n",
      "11   CUST1011   53  Female\n",
      "12   CUST1012   57    Male\n",
      "13   CUST1013   41    Male\n",
      "14   CUST1014   20  Female\n",
      "15   CUST1015   39  Female\n",
      "16   CUST1016   19  Female\n",
      "17   CUST1017   41  Female\n",
      "18   CUST1018   47  Female\n",
      "19   CUST1019   55  Female\n",
      "20   CUST1020   19  Female\n",
      "21   CUST1021   38  Female\n",
      "22   CUST1022   50    Male\n",
      "23   CUST1023   29  Female\n",
      "24   CUST1024   39    Male\n",
      "25   CUST1025   42  Female\n",
      "26   CUST1026   44  Female\n",
      "27   CUST1027   59    Male\n",
      "28   CUST1028   45  Female\n",
      "29   CUST1029   33    Male\n",
      "30   CUST1030   32  Female\n",
      "31   CUST1031   20  Female\n",
      "32   CUST1032   54    Male\n",
      "33   CUST1033   24  Female\n",
      "34   CUST1034   38    Male\n",
      "35   CUST1035   26  Female\n",
      "36   CUST1036   56    Male\n",
      "37   CUST1037   35    Male\n",
      "38   CUST1038   21  Female\n",
      "39   CUST1039   42  Female\n",
      "40   CUST1040   31    Male\n",
      "41   CUST1041   26  Female\n",
      "42   CUST1042   43  Female\n",
      "43   CUST1043   19  Female\n",
      "44   CUST1044   37    Male\n",
      "45   CUST1045   45    Male\n",
      "46   CUST1046   24    Male\n",
      "47   CUST1047   25    Male\n",
      "48   CUST1048   52    Male\n",
      "49   CUST1049   31    Male\n"
     ]
    }
   ],
   "source": [
    "print(df[[\"CustomerID\", \"Age\", \"Gender\"]])"
   ]
  },
  {
   "cell_type": "code",
   "execution_count": 51,
   "id": "8b6f69af",
   "metadata": {},
   "outputs": [
    {
     "name": "stdout",
     "output_type": "stream",
     "text": [
      "   CustomerID  Age  Gender\n",
      "0    CUST1000   56    Male\n",
      "1    CUST1001   46  Female\n",
      "2    CUST1002   32  Female\n",
      "3    CUST1003   25  Female\n",
      "4    CUST1004   38  Female\n",
      "5    CUST1005   56  Female\n",
      "6    CUST1006   36  Female\n",
      "7    CUST1007   40  Female\n",
      "8    CUST1008   28  Female\n",
      "9    CUST1009   28  Female\n",
      "10   CUST1010   41  Female\n",
      "11   CUST1011   53  Female\n",
      "12   CUST1012   57    Male\n",
      "13   CUST1013   41    Male\n",
      "14   CUST1014   20  Female\n",
      "15   CUST1015   39  Female\n",
      "16   CUST1016   19  Female\n",
      "17   CUST1017   41  Female\n",
      "18   CUST1018   47  Female\n",
      "19   CUST1019   55  Female\n",
      "20   CUST1020   19  Female\n",
      "21   CUST1021   38  Female\n",
      "22   CUST1022   50    Male\n",
      "23   CUST1023   29  Female\n",
      "24   CUST1024   39    Male\n",
      "25   CUST1025   42  Female\n",
      "26   CUST1026   44  Female\n",
      "27   CUST1027   59    Male\n",
      "28   CUST1028   45  Female\n",
      "29   CUST1029   33    Male\n",
      "30   CUST1030   32  Female\n",
      "31   CUST1031   20  Female\n",
      "32   CUST1032   54    Male\n",
      "33   CUST1033   24  Female\n",
      "34   CUST1034   38    Male\n",
      "35   CUST1035   26  Female\n",
      "36   CUST1036   56    Male\n",
      "37   CUST1037   35    Male\n",
      "38   CUST1038   21  Female\n",
      "39   CUST1039   42  Female\n",
      "40   CUST1040   31    Male\n",
      "41   CUST1041   26  Female\n",
      "42   CUST1042   43  Female\n",
      "43   CUST1043   19  Female\n",
      "44   CUST1044   37    Male\n",
      "45   CUST1045   45    Male\n",
      "46   CUST1046   24    Male\n",
      "47   CUST1047   25    Male\n",
      "48   CUST1048   52    Male\n",
      "49   CUST1049   31    Male\n",
      "   CustomerID  Age  Gender\n",
      "0    CUST1000   56    Male\n",
      "1    CUST1001   46  Female\n",
      "2    CUST1002   32  Female\n",
      "3    CUST1003   25  Female\n",
      "4    CUST1004   38  Female\n",
      "5    CUST1005   56  Female\n",
      "6    CUST1006   36  Female\n",
      "7    CUST1007   40  Female\n",
      "8    CUST1008   28  Female\n",
      "9    CUST1009   28  Female\n",
      "10   CUST1010   41  Female\n",
      "11   CUST1011   53  Female\n",
      "12   CUST1012   57    Male\n",
      "13   CUST1013   41    Male\n",
      "14   CUST1014   20  Female\n",
      "15   CUST1015   39  Female\n",
      "16   CUST1016   19  Female\n",
      "17   CUST1017   41  Female\n",
      "18   CUST1018   47  Female\n",
      "19   CUST1019   55  Female\n",
      "20   CUST1020   19  Female\n",
      "21   CUST1021   38  Female\n",
      "22   CUST1022   50    Male\n",
      "23   CUST1023   29  Female\n",
      "24   CUST1024   39    Male\n",
      "25   CUST1025   42  Female\n",
      "26   CUST1026   44  Female\n",
      "27   CUST1027   59    Male\n",
      "28   CUST1028   45  Female\n",
      "29   CUST1029   33    Male\n",
      "30   CUST1030   32  Female\n",
      "31   CUST1031   20  Female\n",
      "32   CUST1032   54    Male\n",
      "33   CUST1033   24  Female\n",
      "34   CUST1034   38    Male\n",
      "35   CUST1035   26  Female\n",
      "36   CUST1036   56    Male\n",
      "37   CUST1037   35    Male\n",
      "38   CUST1038   21  Female\n",
      "39   CUST1039   42  Female\n",
      "40   CUST1040   31    Male\n",
      "41   CUST1041   26  Female\n",
      "42   CUST1042   43  Female\n",
      "43   CUST1043   19  Female\n",
      "44   CUST1044   37    Male\n",
      "45   CUST1045   45    Male\n",
      "46   CUST1046   24    Male\n",
      "47   CUST1047   25    Male\n",
      "48   CUST1048   52    Male\n",
      "49   CUST1049   31    Male\n"
     ]
    }
   ],
   "source": [
    "print(df.loc[:, [\"CustomerID\", \"Age\", \"Gender\"]])\n",
    "print(df.iloc[:, 0:3])\n",
    "\n"
   ]
  },
  {
   "cell_type": "markdown",
   "id": "173d293d",
   "metadata": {},
   "source": [
    "# 8 Find average income of employees"
   ]
  },
  {
   "cell_type": "code",
   "execution_count": 53,
   "id": "cf6c7392",
   "metadata": {},
   "outputs": [
    {
     "name": "stdout",
     "output_type": "stream",
     "text": [
      "Average Income:  76207.52\n"
     ]
    }
   ],
   "source": [
    "print(\"Average Income: \",df[\"Income\"].mean())"
   ]
  }
 ],
 "metadata": {
  "kernelspec": {
   "display_name": "Python 3",
   "language": "python",
   "name": "python3"
  },
  "language_info": {
   "codemirror_mode": {
    "name": "ipython",
    "version": 3
   },
   "file_extension": ".py",
   "mimetype": "text/x-python",
   "name": "python",
   "nbconvert_exporter": "python",
   "pygments_lexer": "ipython3",
   "version": "3.11.9"
  }
 },
 "nbformat": 4,
 "nbformat_minor": 5
}
