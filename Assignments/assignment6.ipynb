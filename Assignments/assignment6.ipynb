{
 "cells": [
  {
   "cell_type": "markdown",
   "id": "fb8447a3",
   "metadata": {},
   "source": [
    "# 1.Write a function to check whether a number is an Armstrong number."
   ]
  },
  {
   "cell_type": "code",
   "execution_count": 5,
   "id": "1fd0a214",
   "metadata": {},
   "outputs": [
    {
     "name": "stdout",
     "output_type": "stream",
     "text": [
      "not armstrong\n"
     ]
    }
   ],
   "source": [
    "def armstrong(n):\n",
    "  sum=0\n",
    "  l=len(n)\n",
    "  for i in n:\n",
    "    digit=int(i)\n",
    "    sum+=digit**l\n",
    "\n",
    "  if sum==int(n):\n",
    "    print(\"armstrong no\")\n",
    "  else:\n",
    "    print(\"not armstrong\")\n",
    "\n",
    "num=input(\"enter the number\")\n",
    "armstrong(num)\n"
   ]
  },
  {
   "cell_type": "code",
   "execution_count": 6,
   "id": "af54bbce",
   "metadata": {},
   "outputs": [
    {
     "name": "stdout",
     "output_type": "stream",
     "text": [
      "armstrong no\n"
     ]
    }
   ],
   "source": [
    "def armstrong(n):\n",
    "    l = len(n)\n",
    "    if sum(int(digit) ** l for digit in n) == int(n):\n",
    "        print(\"armstrong no\")\n",
    "    else:\n",
    "        print(\"not armstrong\")\n",
    "\n",
    "num = input(\"Enter the number: \")\n",
    "armstrong(num)\n"
   ]
  },
  {
   "cell_type": "markdown",
   "id": "06d9e0da",
   "metadata": {},
   "source": [
    "# 2. Write a function to count how many times a character appears in a string"
   ]
  },
  {
   "cell_type": "code",
   "execution_count": 10,
   "id": "11135cd6",
   "metadata": {},
   "outputs": [
    {
     "name": "stdout",
     "output_type": "stream",
     "text": [
      "4\n"
     ]
    }
   ],
   "source": [
    "def occurence(n):\n",
    "  d={}\n",
    "  for i in n:\n",
    "    if i in d:\n",
    "      d[i]+=1\n",
    "    else:\n",
    "      d[i]=1\n",
    "  return d\n",
    "\n",
    "s=input(\"enter the string\")\n",
    "s1=input(\"enter the character\")\n",
    "d1=occurence(s)\n",
    "if s1 in d1:\n",
    "  print(d1[s1])\n",
    "else:\n",
    "  print(\"not such element\")\n"
   ]
  },
  {
   "cell_type": "markdown",
   "id": "3a0ba609",
   "metadata": {},
   "source": [
    "# 3.Write a function to find all prime numbers between two given numbers."
   ]
  },
  {
   "cell_type": "code",
   "execution_count": null,
   "id": "3d8ce785",
   "metadata": {},
   "outputs": [
    {
     "name": "stdout",
     "output_type": "stream",
     "text": [
      "3 "
     ]
    }
   ],
   "source": [
    "def prime(s,f):\n",
    "  for i in range(s+1,f):\n",
    "    for j in range(2,i):\n",
    "      if i%j==0:\n",
    "        break\n",
    "    else:\n",
    "      print(i,end=\" \")\n",
    "\n",
    "a,b=map(int, input(\"Enter the start and final separated by space: \").split())\n",
    "prime(a,b)"
   ]
  },
  {
   "cell_type": "markdown",
   "id": "614bce56",
   "metadata": {},
   "source": [
    "# 4.Write a function that returns the GCD (Greatest Common Divisor) of two numbers"
   ]
  },
  {
   "cell_type": "code",
   "execution_count": 18,
   "id": "79cd8cf7",
   "metadata": {},
   "outputs": [
    {
     "name": "stdout",
     "output_type": "stream",
     "text": [
      "GCD = 4\n"
     ]
    }
   ],
   "source": [
    "def gcd(a, b):\n",
    "  smaller = min(a, b)\n",
    "  for i in range(smaller, 0, -1):\n",
    "    if a % i == 0 and b % i == 0:\n",
    "      return i\n",
    "\n",
    "a, b = map(int, input(\"Enter two positive integers: \").split())\n",
    "print(\"GCD =\", gcd(a, b))\n"
   ]
  },
  {
   "cell_type": "markdown",
   "id": "2263c57b",
   "metadata": {},
   "source": [
    " # 5.Write a function that returns the LCM (Least Common Multiple) of two numbers"
   ]
  },
  {
   "cell_type": "code",
   "execution_count": 17,
   "id": "d49f8a23",
   "metadata": {},
   "outputs": [
    {
     "name": "stdout",
     "output_type": "stream",
     "text": [
      "LCM = 36\n"
     ]
    }
   ],
   "source": [
    "def lcm(a, b):\n",
    "  greater = max(a, b)\n",
    "  while True:\n",
    "    if greater % a == 0 and greater % b == 0:\n",
    "      return greater\n",
    "    greater += 1\n",
    "\n",
    "a, b = map(int, input(\"Enter two positive integers: \").split())\n",
    "print(\"LCM =\", lcm(a, b))\n"
   ]
  },
  {
   "cell_type": "code",
   "execution_count": 19,
   "id": "8a955908",
   "metadata": {},
   "outputs": [
    {
     "name": "stdout",
     "output_type": "stream",
     "text": [
      "LCM = 204\n"
     ]
    }
   ],
   "source": [
    "def gcd(a, b):\n",
    "    while b != 0:\n",
    "        a, b = b, a % b\n",
    "    return a\n",
    "\n",
    "def lcm(a, b):\n",
    "    return (a * b) // gcd(a, b)\n",
    "\n",
    "a, b = map(int, input(\"Enter two positive integers: \").split())\n",
    "print(\"LCM =\", lcm(a, b))\n"
   ]
  },
  {
   "cell_type": "markdown",
   "id": "4b6b8865",
   "metadata": {},
   "source": [
    "# 6.Write a function that returns the binary representation of a number."
   ]
  },
  {
   "cell_type": "code",
   "execution_count": 21,
   "id": "6a167dea",
   "metadata": {},
   "outputs": [
    {
     "name": "stdout",
     "output_type": "stream",
     "text": [
      "Binary rep: 1101\n"
     ]
    }
   ],
   "source": [
    "def to_binary(n):\n",
    "  if n == 0:\n",
    "    return \"\"\n",
    "  else:\n",
    "    return to_binary(n // 2) + str(n % 2)\n",
    "\n",
    "num = int(input(\"Enter a number: \"))\n",
    "print(\"Binary rep:\", to_binary(num) or \"0\")\n"
   ]
  },
  {
   "cell_type": "markdown",
   "id": "9a4a67e4",
   "metadata": {},
   "source": [
    "# 7.Write a function to print a pattern like a triangle or pyramid of stars (*)."
   ]
  },
  {
   "cell_type": "code",
   "execution_count": 25,
   "id": "951b36a2",
   "metadata": {},
   "outputs": [
    {
     "name": "stdout",
     "output_type": "stream",
     "text": [
      "     \n",
      "    *\n",
      "   ***\n",
      "  *****\n",
      " *******\n",
      "*********\n"
     ]
    }
   ],
   "source": [
    "def pattern(n):\n",
    "  for i in range(n+1):\n",
    "    print(\" \"*(n-i) + \"*\"*(2*i-1))\n",
    "\n",
    "n=int(input())\n",
    "pattern(n)"
   ]
  },
  {
   "cell_type": "markdown",
   "id": "54fafeaa",
   "metadata": {},
   "source": [
    "# Write a function that returns all substrings of a given string."
   ]
  },
  {
   "cell_type": "code",
   "execution_count": 30,
   "id": "0a280827",
   "metadata": {},
   "outputs": [
    {
     "name": "stdout",
     "output_type": "stream",
     "text": [
      "a ab abc b bc c "
     ]
    }
   ],
   "source": [
    "def substrings(s):\n",
    "  for i in range(len(s)):\n",
    "    for j in range(i+1, len(s)+1):\n",
    "      print(s[i:j], end=\" \")\n",
    "\n",
    "s = input(\"Enter a string: \")\n",
    "substrings(s)\n"
   ]
  },
  {
   "cell_type": "code",
   "execution_count": 29,
   "id": "3617f8f2",
   "metadata": {},
   "outputs": [
    {
     "name": "stdout",
     "output_type": "stream",
     "text": [
      "All substrings: ['a', 'ab', 'abc', 'b', 'bc', 'c']\n"
     ]
    }
   ],
   "source": [
    "def substrings(s):\n",
    "  result = []\n",
    "  for i in range(len(s)):\n",
    "    for j in range(i+1, len(s)+1):\n",
    "      result.append(s[i:j])\n",
    "  return result\n",
    "\n",
    "s = input(\"Enter a string: \")\n",
    "print(\"All substrings:\", substrings(s))\n"
   ]
  },
  {
   "cell_type": "markdown",
   "id": "1df7cba8",
   "metadata": {},
   "source": [
    "# 8.Write a function to find if a number is a perfect number (sum of factors equals the number)."
   ]
  },
  {
   "cell_type": "code",
   "execution_count": 31,
   "id": "21e8f130",
   "metadata": {},
   "outputs": [
    {
     "name": "stdout",
     "output_type": "stream",
     "text": [
      "34 is not a Perfect Number\n"
     ]
    }
   ],
   "source": [
    "def is_perfect(n):\n",
    "    s = 0\n",
    "    for i in range(1, n):\n",
    "      if n % i == 0: \n",
    "        s += i\n",
    "    return s == n\n",
    "\n",
    "num = int(input(\"Enter a number: \"))\n",
    "if is_perfect(num):\n",
    "    print(num, \"is a Perfect Number\")\n",
    "else:\n",
    "    print(num, \"is not a Perfect Number\")\n"
   ]
  },
  {
   "cell_type": "markdown",
   "id": "69f3c93b",
   "metadata": {},
   "source": [
    "# 9.Write a function to print the frequency of each digit in a number."
   ]
  },
  {
   "cell_type": "code",
   "execution_count": 32,
   "id": "8d5a2271",
   "metadata": {},
   "outputs": [
    {
     "name": "stdout",
     "output_type": "stream",
     "text": [
      "1 : 1\n",
      "2 : 4\n",
      "3 : 2\n",
      "4 : 1\n"
     ]
    }
   ],
   "source": [
    "def digit_frequency(n):\n",
    "  n = str(n) \n",
    "  freq = {}    \n",
    "\n",
    "  for digit in n:\n",
    "    if digit in freq:\n",
    "      freq[digit] += 1\n",
    "    else:\n",
    "      freq[digit] = 1\n",
    "\n",
    "  for d, count in freq.items():\n",
    "    print(d, \":\", count)\n",
    "\n",
    "num = int(input(\"Enter a number: \"))\n",
    "digit_frequency(num)\n"
   ]
  },
  {
   "cell_type": "markdown",
   "id": "4a954084",
   "metadata": {},
   "source": [
    "# 10.Write a function that reverses the words in a sentence."
   ]
  },
  {
   "cell_type": "code",
   "execution_count": 1,
   "id": "7982af22",
   "metadata": {},
   "outputs": [
    {
     "name": "stdout",
     "output_type": "stream",
     "text": [
      "Reversed: hello hii\n"
     ]
    }
   ],
   "source": [
    "def reverse_words(sentence):\n",
    "    words = sentence.split() \n",
    "    # print(words)\n",
    "    reversed_words =reversed(words)  \n",
    "    return \" \".join(reversed_words) \n",
    "\n",
    "s = input(\"Enter a sentence: \")\n",
    "print(\"Reversed:\", reverse_words(s))\n"
   ]
  },
  {
   "cell_type": "markdown",
   "id": "da933e7c",
   "metadata": {},
   "source": [
    "# 11.Write a function that finds the second largest number in a list."
   ]
  },
  {
   "cell_type": "code",
   "execution_count": 37,
   "id": "f475adc1",
   "metadata": {},
   "outputs": [
    {
     "name": "stdout",
     "output_type": "stream",
     "text": [
      "[1, 33, 444, 2, 56, 3, 4, 99]\n",
      "Second max: 99\n"
     ]
    }
   ],
   "source": [
    "def second_max(lst):\n",
    "  lst = list(set(lst))\n",
    "  lst.sort(reverse=True) \n",
    "  if len(lst) < 2:\n",
    "    return None       \n",
    "  return lst[1]\n",
    "\n",
    "nums = list(map(int, input(\"Enter numbers separated by space: \").split()))\n",
    "print(nums)\n",
    "print(\"Second max:\", second_max(nums))\n"
   ]
  },
  {
   "cell_type": "code",
   "execution_count": 38,
   "id": "84287aee",
   "metadata": {},
   "outputs": [
    {
     "name": "stdout",
     "output_type": "stream",
     "text": [
      "[12, 34, 555, 6, 2]\n",
      "Second max: 34\n"
     ]
    }
   ],
   "source": [
    "def second_max(lst):\n",
    "  first = max(lst)\n",
    "  lst.remove(first)\n",
    "  second = max(lst)\n",
    "  return second\n",
    "\n",
    "nums = list(map(int, input(\"Enter numbers separated by space: \").split()))\n",
    "print(nums)\n",
    "print(\"Second max:\", second_max(nums))\n",
    "\n"
   ]
  }
 ],
 "metadata": {
  "kernelspec": {
   "display_name": "Python 3",
   "language": "python",
   "name": "python3"
  },
  "language_info": {
   "codemirror_mode": {
    "name": "ipython",
    "version": 3
   },
   "file_extension": ".py",
   "mimetype": "text/x-python",
   "name": "python",
   "nbconvert_exporter": "python",
   "pygments_lexer": "ipython3",
   "version": "3.11.9"
  }
 },
 "nbformat": 4,
 "nbformat_minor": 5
}
