{
 "cells": [
  {
   "cell_type": "markdown",
   "id": "57610546",
   "metadata": {},
   "source": [
    "1.Create a class Rectangle with attributes length and width. Write methods to calculate area and perimeter"
   ]
  },
  {
   "cell_type": "code",
   "execution_count": 2,
   "id": "655b9be8",
   "metadata": {},
   "outputs": [
    {
     "name": "stdout",
     "output_type": "stream",
     "text": [
      "42\n",
      "26\n"
     ]
    }
   ],
   "source": [
    "class Rectangle:\n",
    "  def __init__(self,l,b):\n",
    "    self.l=l\n",
    "    self.b=b\n",
    "\n",
    "  def area(self):\n",
    "    print(self.l*self.b)\n",
    "\n",
    "  def peri(self):\n",
    "    print(2*(self.l+self.b))\n",
    "\n",
    "\n",
    "r1=Rectangle(6,7)\n",
    "r1.area()\n",
    "r1.peri()\n",
    "  "
   ]
  },
  {
   "cell_type": "markdown",
   "id": "1d6b4cd4",
   "metadata": {},
   "source": [
    "2.Create a class Calculator with methods add(), subtract(), multiply(), and divide()."
   ]
  },
  {
   "cell_type": "code",
   "execution_count": 4,
   "id": "28973379",
   "metadata": {},
   "outputs": [
    {
     "name": "stdout",
     "output_type": "stream",
     "text": [
      "20\n"
     ]
    }
   ],
   "source": [
    "class Calculator:\n",
    "  def __init__(self,a,b):\n",
    "    self.a=a\n",
    "    self.b=b\n",
    "\n",
    "  def addit(self):\n",
    "    return self.a+self.b\n",
    "  \n",
    "  def multiply(self):\n",
    "    return self.a*self.b\n",
    "  \n",
    "  def divide(self):\n",
    "    return self.a/self.b\n",
    "  \n",
    "  def sub(self):\n",
    "    return self.a-self.b\n",
    "  \n",
    "a,b=map(int,input(\"entre the 2 nos by space btw them\").split())\n",
    "choice=int(input('enter your choice : 1-add,  2-substract, 3-multiplication, 4-division'))\n",
    "calc=Calculator(a,b)\n",
    "\n",
    "if choice==1:\n",
    "    print(calc.addit())\n",
    "if choice==2:\n",
    "    print(calc.sub())\n",
    "if choice==3:\n",
    "    print(calc.multiply())\n",
    "if choice==4:\n",
    "    print(calc.divide())"
   ]
  },
  {
   "cell_type": "markdown",
   "id": "ab3396ea",
   "metadata": {},
   "source": [
    "3.Create a class Circle with attribute radius. Write methods to calculate area and circumference."
   ]
  },
  {
   "cell_type": "code",
   "execution_count": 5,
   "id": "71f6f59e",
   "metadata": {},
   "outputs": [
    {
     "name": "stdout",
     "output_type": "stream",
     "text": [
      "113.09733552923255\n",
      "37.69911184307752\n"
     ]
    }
   ],
   "source": [
    "import math\n",
    "\n",
    "class Circle:\n",
    "  def __init__(self,r):\n",
    "    self.r=r\n",
    "\n",
    "  def area(self):\n",
    "    print(math.pi*self.r*self.r)\n",
    "\n",
    "  def circumf(self):\n",
    "    print(2*math.pi*self.r)\n",
    "\n",
    "\n",
    "c1=Circle(6)\n",
    "c1.area()\n",
    "c1.circumf()"
   ]
  },
  {
   "cell_type": "markdown",
   "id": "2e758fb6",
   "metadata": {},
   "source": [
    "4.create a class Employee with attributes name and salary. Add a method display() to show details."
   ]
  },
  {
   "cell_type": "code",
   "execution_count": 6,
   "id": "83d7e141",
   "metadata": {},
   "outputs": [
    {
     "name": "stdout",
     "output_type": "stream",
     "text": [
      "The name is Nirmal K R and salary is Rs89000\n"
     ]
    }
   ],
   "source": [
    "class Employee:\n",
    "  def __init__(self,n,s):\n",
    "    self.name=n\n",
    "    self.salary=s\n",
    "\n",
    "  def show_details(self):\n",
    "    print(f\"The name is {self.name} and salary is Rs{self.salary}\")\n",
    "\n",
    "emp=Employee(\"Nirmal K R\",89000)\n",
    "emp.show_details()"
   ]
  },
  {
   "cell_type": "markdown",
   "id": "3c3169e6",
   "metadata": {},
   "source": [
    "5.Create a class BankAccount with attributes account_number and balance. Add methods:\n",
    "deposit(amount)\n",
    "withdraw(amount)\n",
    "check_balance()\n"
   ]
  },
  {
   "cell_type": "code",
   "execution_count": 12,
   "id": "7679cfba",
   "metadata": {},
   "outputs": [
    {
     "name": "stdout",
     "output_type": "stream",
     "text": [
      "Bank account 11100678945 has Rs 8300 balance amount\n",
      "Bank account 1907356444 has Rs 16800 balance amount\n"
     ]
    }
   ],
   "source": [
    "class Bank_Account:\n",
    "  def __init__(self,a,b):\n",
    "    self.balance=b\n",
    "    self.account_number=a\n",
    "\n",
    "  def check_balance(self):\n",
    "    print(f\"Bank account {self.account_number} has Rs {self.balance} balance amount\")\n",
    "\n",
    "  def deposit(self,d):\n",
    "    self.balance+=d\n",
    "\n",
    "  def withdraw(self,w):\n",
    "    self.balance-=w\n",
    "\n",
    "acc=Bank_Account(11100678945,7800)\n",
    "acc1=Bank_Account(1907356444,16800)\n",
    "\n",
    "acc.deposit(1000)\n",
    "# acc.check_balance()\n",
    "acc.withdraw(500)\n",
    "acc.check_balance()\n",
    "acc1.check_balance()\n",
    "\n"
   ]
  },
  {
   "cell_type": "markdown",
   "id": "f709de06",
   "metadata": {},
   "source": [
    "6.Create a class Temperature with methods:\n",
    "celsius_to_fahrenheit(c)\n",
    "fahrenheit_to_celsius(f)\n"
   ]
  },
  {
   "cell_type": "code",
   "execution_count": 21,
   "id": "a512f911",
   "metadata": {},
   "outputs": [
    {
     "name": "stdout",
     "output_type": "stream",
     "text": [
      "25°C = 77.0°F\n",
      "94°F = 34.44444444444444°C\n"
     ]
    }
   ],
   "source": [
    "class Temperature:\n",
    "\n",
    "  def celsius_to_fahrenheit(self, c):\n",
    "    f = (c * 9/5) + 32\n",
    "    return f\n",
    "  \n",
    "  def fahrenheit_to_celsius(self, f):\n",
    "    c = (f - 32) * 5/9\n",
    "    return c\n",
    "  \n",
    "temp=Temperature()\n",
    "c=25\n",
    "f=temp.celsius_to_fahrenheit(c)\n",
    "print(f\"{c}°C = {f}°F\")\n",
    "\n",
    "f = 94\n",
    "c= temp.fahrenheit_to_celsius(f)\n",
    "print(f\"{f}°F = {c}°C\")"
   ]
  },
  {
   "cell_type": "markdown",
   "id": "3c61ad09",
   "metadata": {},
   "source": [
    "7. Shopping cart\n",
    "Create a class Cart that allows:\n",
    "add_item(item)\n",
    "remove_item(item)\n",
    "view_cart()\n"
   ]
  },
  {
   "cell_type": "code",
   "execution_count": null,
   "id": "08cb4eb0",
   "metadata": {},
   "outputs": [
    {
     "name": "stdout",
     "output_type": "stream",
     "text": [
      "'Apple' has been added to the cart.\n",
      "'Grapes' has been added to the cart.\n",
      "'Banana' has been added to the cart.\n",
      "Items in the cart:\n",
      "1. Apple\n",
      "2. Grapes\n",
      "3. Banana\n",
      "The cart is empty.\n",
      "'Apple' has been removed from the cart.\n",
      "'Mangoes' has been added to the cart.\n",
      "Items in the cart:\n",
      "1. Grapes\n",
      "2. Banana\n",
      "3. Mangoes\n",
      "The cart is empty.\n"
     ]
    },
    {
     "ename": "",
     "evalue": "",
     "output_type": "error",
     "traceback": [
      "\u001b[1;31mThe Kernel crashed while executing code in the current cell or a previous cell. \n",
      "\u001b[1;31mPlease review the code in the cell(s) to identify a possible cause of the failure. \n",
      "\u001b[1;31mClick <a href='https://aka.ms/vscodeJupyterKernelCrash'>here</a> for more info. \n",
      "\u001b[1;31mView Jupyter <a href='command:jupyter.viewOutput'>log</a> for further details."
     ]
    }
   ],
   "source": [
    "class Cart:\n",
    "  def __init__(self):\n",
    "    self.items = []\n",
    "\n",
    "  def add_item(self, item):\n",
    "    self.items.append(item)\n",
    "    print(f\"'{item}' has been added to the cart.\")\n",
    "\n",
    "  def remove_item(self, item):\n",
    "    if item in self.items:\n",
    "      self.items.remove(item)\n",
    "      print(f\"'{item}' has been removed from the cart.\")\n",
    "    else:\n",
    "      print(f\"'{item}' is not in the cart.\")\n",
    "\n",
    "  def view_cart(self):\n",
    "    if self.items:\n",
    "      print(\"Items in the cart:\")\n",
    "      for i, item in enumerate(self.items, start=1):\n",
    "        print(f\"{i}. {item}\")\n",
    "      else:\n",
    "        print(\"The cart is empty.\")\n",
    "\n",
    "\n",
    "my_cart = Cart()\n",
    "my_cart.add_item(\"Apple\")\n",
    "my_cart.add_item(\"Grapes\")\n",
    "\n",
    "my_cart.add_item(\"Banana\")\n",
    "my_cart.view_cart()\n",
    "my_cart.remove_item(\"Apple\")\n",
    "my_cart.add_item(\"Mangoes\")\n",
    "my_cart.view_cart()\n",
    "\n"
   ]
  }
 ],
 "metadata": {
  "kernelspec": {
   "display_name": "Python 3",
   "language": "python",
   "name": "python3"
  },
  "language_info": {
   "codemirror_mode": {
    "name": "ipython",
    "version": 3
   },
   "file_extension": ".py",
   "mimetype": "text/x-python",
   "name": "python",
   "nbconvert_exporter": "python",
   "pygments_lexer": "ipython3",
   "version": "3.11.9"
  }
 },
 "nbformat": 4,
 "nbformat_minor": 5
}
