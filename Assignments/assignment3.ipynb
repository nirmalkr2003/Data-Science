{
 "cells": [
  {
   "cell_type": "markdown",
   "id": "5c848f3f",
   "metadata": {},
   "source": [
    "# Assignment-3"
   ]
  },
  {
   "cell_type": "markdown",
   "id": "9891a045",
   "metadata": {},
   "source": [
    "# 1. Shallow and Deep Copy"
   ]
  },
  {
   "cell_type": "markdown",
   "id": "4b0b9a08",
   "metadata": {},
   "source": [
    "1.Shallow Copy (Single-Level Copy)\n",
    "\n",
    "Creates a new list object, but does not copy inner (nested) objects.\n",
    "\n",
    "The outer list is separate, but inner objects are still shared between the original and the copy.\n",
    "\n",
    "If the list has nested lists (or other mutable objects), both the original and the copy share the same inner objects.\n",
    "\n",
    "In Short, in Shallow copy,it creates a new  outer list but doesn't copy the inner elements.Both copies(lists) reference to the same location    of  the object in the memory.So whenever we change the object inside  one copy,the other also changes"
   ]
  },
  {
   "cell_type": "code",
   "execution_count": 1,
   "id": "da92a5a7",
   "metadata": {},
   "outputs": [
    {
     "name": "stdout",
     "output_type": "stream",
     "text": [
      "list1: [[99, 2], [3, 4]]\n",
      "list2: [[99, 2], [3, 4]]\n"
     ]
    }
   ],
   "source": [
    "import copy\n",
    "\n",
    "list1 = [[1, 2], [3, 4]]\n",
    "\n",
    "\n",
    "list2 = copy.copy(list1)  \n",
    "\n",
    "list2[0][0] = 99\n",
    "\n",
    "print(\"list1:\", list1)  \n",
    "print(\"list2:\", list2)\n"
   ]
  },
  {
   "cell_type": "markdown",
   "id": "4eb771a7",
   "metadata": {},
   "source": [
    "2.Deep Copy (Full Copy)\n",
    "\n",
    "Creates a new outer list and recursively copies all inner objects.\n",
    "\n",
    "Completely independent — changes in one will not affect the other.\n",
    "\n",
    "In short ,In deep copy,It copies everything, including inner lists and nested objects.therfore changes in one list will not affect the other"
   ]
  },
  {
   "cell_type": "code",
   "execution_count": null,
   "id": "fdad752b",
   "metadata": {},
   "outputs": [
    {
     "name": "stdout",
     "output_type": "stream",
     "text": [
      "list1: [[1, 2], [3, 4]]\n",
      "list2: [[99, 2], [3, 4]]\n"
     ]
    }
   ],
   "source": [
    "import copy\n",
    "\n",
    "list1 = [[1, 2], [3, 4]]\n",
    "\n",
    "list2 = copy.deepcopy(list1)  \n",
    "\n",
    "list2[0][0] = 99\n",
    "\n",
    "print(\"list1:\", list1)  \n",
    "print(\"list2:\", list2)\n"
   ]
  },
  {
   "cell_type": "markdown",
   "id": "db216030",
   "metadata": {},
   "source": [
    "If it’s not a nested list (just a simple flat list of numbers, strings, etc.), then you won’t see any difference between shallow and deep copy — they’ll behave exactly the same.\n",
    "\n",
    "Why?\n",
    "\n",
    "Numbers, strings, and tuples are immutable (can’t be changed in place).\n",
    "\n",
    "Shallow and deep copies both just copy the references, but since you can’t mutate those objects in place, any change you make is actually creating a new object in that list — so it doesn’t affect the other list.\n",
    "\n",
    "The difference only appears when:\n",
    "The list contains mutable objects (e.g., another list, dictionary, set)."
   ]
  },
  {
   "cell_type": "code",
   "execution_count": null,
   "id": "f7f59091",
   "metadata": {},
   "outputs": [
    {
     "name": "stdout",
     "output_type": "stream",
     "text": [
      "[1, 2, 3, 4]\n",
      "[99, 2, 3, 4]\n",
      "[1, 77, 3, 4]\n"
     ]
    }
   ],
   "source": [
    "import copy\n",
    "\n",
    "list1 = [1, 2, 3, 4]\n",
    "\n",
    "list2 = copy.copy(list1)\n",
    "\n",
    "list3 = copy.deepcopy(list1)\n",
    "\n",
    "list2[0] = 99\n",
    "list3[1] = 77\n",
    "\n",
    "print(list1)  # [1, 2, 3, 4] — unchanged\n",
    "print(list2)  # [99, 2, 3, 4]\n",
    "print(list3)  # [1, 77, 3, 4]\n"
   ]
  },
  {
   "cell_type": "markdown",
   "id": "d5ca1f57",
   "metadata": {},
   "source": [
    "# 2.Write the program to find the lists consist of at least one common element."
   ]
  },
  {
   "cell_type": "code",
   "execution_count": 4,
   "id": "16624c4f",
   "metadata": {},
   "outputs": [
    {
     "name": "stdout",
     "output_type": "stream",
     "text": [
      "common exists\n",
      "common ele: [2, 3, 9]\n"
     ]
    }
   ],
   "source": [
    "l1=[1,2,3,4,6,8,9]\n",
    "l2=[3,2,7,11,9]\n",
    "l3=[]\n",
    "for i in l1:\n",
    "  for j in l2:\n",
    "    if i==j:\n",
    "      l3.append(i)\n",
    "      break\n",
    "print(\"common exists\")\n",
    "print(\"common ele:\",l3)"
   ]
  },
  {
   "cell_type": "markdown",
   "id": "380dc2b3",
   "metadata": {},
   "source": [
    "# 3.Write a program that takes a list of integers and returns a new list with all even numbers removed."
   ]
  },
  {
   "cell_type": "code",
   "execution_count": 10,
   "id": "9f2e60ea",
   "metadata": {},
   "outputs": [
    {
     "name": "stdout",
     "output_type": "stream",
     "text": [
      "orginal list:  [2, 3, 4, 5, 6, 7]\n",
      "New list w\\o even nos:  [3, 5, 7]\n"
     ]
    }
   ],
   "source": [
    "l=[]\n",
    "l2=[]\n",
    "num=int(input(\"Enter the total number of elements in the list: \"))\n",
    "for i in range(num):\n",
    "  l.append(int(input(f\"enter number{i+1}: \")))\n",
    "\n",
    "print(\"orginal list: \",l)\n",
    "\n",
    "for j in l:\n",
    "  if j%2!=0:\n",
    "    l2.append(j)\n",
    "\n",
    "print(\"New list w\\o even nos: \",l2)"
   ]
  },
  {
   "cell_type": "markdown",
   "id": "e330446d",
   "metadata": {},
   "source": [
    "# 4.Given a list of strings, return a new list with only those strings that have more than 3 characters."
   ]
  },
  {
   "cell_type": "code",
   "execution_count": 12,
   "id": "d95f9ddb",
   "metadata": {},
   "outputs": [
    {
     "name": "stdout",
     "output_type": "stream",
     "text": [
      "Orginal List ['nirmal', 'abc', 'john', 'rahul', 'two']\n",
      "New list with str len greater than 3:  ['nirmal', 'john', 'rahul']\n"
     ]
    }
   ],
   "source": [
    "l=[]\n",
    "l2=[]\n",
    "num=int(input(\"Enter the total number of strings in the list: \"))\n",
    "for i in range(num):\n",
    "  l.append(input(f\"enter the string{i+1}: \"))\n",
    "\n",
    "print(\"Orginal List\",l)\n",
    "\n",
    "\n",
    "for j in l:\n",
    "  if len(j)>3:\n",
    "    l2.append(j)\n",
    "\n",
    "print(\"New list with str len greater than 3: \",l2)\n",
    "\n"
   ]
  },
  {
   "cell_type": "markdown",
   "id": "4f481bf5",
   "metadata": {},
   "source": [
    "# 5.Write a function that replaces all negative numbers in a list with zero using a for loop and if condition."
   ]
  },
  {
   "cell_type": "code",
   "execution_count": 16,
   "id": "38b3c250",
   "metadata": {},
   "outputs": [
    {
     "name": "stdout",
     "output_type": "stream",
     "text": [
      "orginal list:  [-8, 2, 4, -8, 9, -3, 7]\n",
      "New List:  [0, 2, 4, 0, 9, 0, 7]\n"
     ]
    }
   ],
   "source": [
    "l=[]\n",
    "num=int(input(\"Enter the total number of elements in the list: \"))\n",
    "for i in range(num):\n",
    "  l.append(int(input(f\"enter number{i+1}: \")))\n",
    "\n",
    "print(\"orginal list: \",l)\n",
    "\n",
    "for j in range(len(l)):\n",
    "  if l[j]<0:\n",
    "    l[j]=0\n",
    "\n",
    "print(\"New List: \",l)"
   ]
  },
  {
   "cell_type": "code",
   "execution_count": 20,
   "id": "4ab6f595",
   "metadata": {},
   "outputs": [
    {
     "name": "stdout",
     "output_type": "stream",
     "text": [
      "orginal list:  [2, 0, -5, -2, 6]\n",
      "new list:  [2, 0, 0, 0, 6]\n"
     ]
    }
   ],
   "source": [
    "l=[]\n",
    "num=int(input(\"Enter the total number of elements in the list: \"))\n",
    "for i in range(num):\n",
    "  l.append(int(input(f\"enter number{i+1}: \")))\n",
    "\n",
    "print(\"orginal list: \",l)\n",
    "\n",
    "#list compression\n",
    "l=[0 if j<0 else j for j in l]\n",
    "\n",
    "print(\"new list: \" , l)"
   ]
  },
  {
   "cell_type": "markdown",
   "id": "334d4277",
   "metadata": {},
   "source": [
    "# 6.Create a list of squares of all odd numbers from a given list."
   ]
  },
  {
   "cell_type": "code",
   "execution_count": 19,
   "id": "c94aad3e",
   "metadata": {},
   "outputs": [
    {
     "name": "stdout",
     "output_type": "stream",
     "text": [
      "Orginal list:  [2, 4, 3, 5, 7]\n",
      "New List:  [9, 25, 49]\n"
     ]
    }
   ],
   "source": [
    "l=[]\n",
    "l2=[]\n",
    "num=int(input(\"Enter the total number of elements in the list: \"))\n",
    "for i in range(num):\n",
    "  l.append(int(input(f\"enter number{i+1}: \")))\n",
    "\n",
    "print(\"Orginal list: \",l)\n",
    "\n",
    "\n",
    "for j in l:\n",
    "  if j%2!=0:\n",
    "    l2.append(j*j)\n",
    "\n",
    "print(\"New List: \",l2)\n",
    "    "
   ]
  }
 ],
 "metadata": {
  "kernelspec": {
   "display_name": "Python 3",
   "language": "python",
   "name": "python3"
  },
  "language_info": {
   "codemirror_mode": {
    "name": "ipython",
    "version": 3
   },
   "file_extension": ".py",
   "mimetype": "text/x-python",
   "name": "python",
   "nbconvert_exporter": "python",
   "pygments_lexer": "ipython3",
   "version": "3.11.9"
  }
 },
 "nbformat": 4,
 "nbformat_minor": 5
}
