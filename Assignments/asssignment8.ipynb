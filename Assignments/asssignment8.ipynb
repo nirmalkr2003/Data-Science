{
 "cells": [
  {
   "cell_type": "markdown",
   "id": "20084157",
   "metadata": {},
   "source": [
    "# 1 Create 1D,2D,3D array . check it’s shape and dimension"
   ]
  },
  {
   "cell_type": "code",
   "execution_count": 8,
   "id": "dea0d4f0",
   "metadata": {},
   "outputs": [
    {
     "name": "stdout",
     "output_type": "stream",
     "text": [
      "1d array:  [1 2 3 4 5] (5,) 1\n",
      "\n",
      "2d array:  [[1 2 3]\n",
      " [4 5 6]] (2, 3) 2\n",
      "\n",
      "3d array:  [[[1 2]\n",
      "  [3 4]]\n",
      "\n",
      " [[5 6]\n",
      "  [7 8]]] (2, 2, 2) 3\n"
     ]
    }
   ],
   "source": [
    "import numpy as np\n",
    "\n",
    "arr1D = np.array([1, 2, 3, 4, 5])\n",
    "print(\"1d array: \",arr1D, arr1D.shape, arr1D.ndim) \n",
    "\n",
    "print()\n",
    "\n",
    "arr2D = np.array([[1, 2, 3], [4, 5, 6]])\n",
    "print(\"2d array: \",arr2D, arr2D.shape, arr2D.ndim)\n",
    "\n",
    "print()\n",
    "\n",
    "arr3D = np.array([[[1, 2], [3, 4]], [[5, 6], [7, 8]]])\n",
    "print(\"3d array: \",arr3D, arr3D.shape, arr3D.ndim)\n"
   ]
  },
  {
   "cell_type": "markdown",
   "id": "41e1d2cc",
   "metadata": {},
   "source": [
    "# 2 Create a NumPy array of numbers from 10 to 50 (inclusive) with a step of 5."
   ]
  },
  {
   "cell_type": "code",
   "execution_count": null,
   "id": "c8c9f0c0",
   "metadata": {},
   "outputs": [],
   "source": [
    "import numpy as np\n",
    "\n",
    "arr_range = np.arange(10, 51, 5)\n",
    "print(arr_range)\n"
   ]
  },
  {
   "cell_type": "markdown",
   "id": "b7efd208",
   "metadata": {},
   "source": [
    "# 3 Generate a 3×3 matrix of random integers between 1 and 20"
   ]
  },
  {
   "cell_type": "code",
   "execution_count": null,
   "id": "ece0cdd5",
   "metadata": {},
   "outputs": [],
   "source": [
    "import numpy as np\n",
    "\n",
    "rand_matrix = np.random.randint(1, 21, size=(3, 3))\n",
    "print(rand_matrix)\n"
   ]
  },
  {
   "cell_type": "markdown",
   "id": "cadb3082",
   "metadata": {},
   "source": [
    "# 4 From the array:\n",
    "# Extract the second row.\n",
    "# Extract the first column.\n",
    "# Extract the subarray containing rows 1–2 and columns 2–4.\n",
    "# Replace all even numbers in arr with -1\n"
   ]
  },
  {
   "cell_type": "code",
   "execution_count": null,
   "id": "512bca1e",
   "metadata": {},
   "outputs": [],
   "source": [
    "import numpy as np\n",
    "\n",
    "arr = np.array([[10, 20, 30, 40],\n",
    "                [50, 60, 70, 80],\n",
    "                [90, 100, 110, 120]])\n",
    "\n",
    "print(arr[1])         # second row\n",
    "print(arr[:, 0])      # first column\n",
    "print(arr[0:2, 1:4])  # rows 1–2, cols 2–4\n"
   ]
  },
  {
   "cell_type": "markdown",
   "id": "3fdacd8c",
   "metadata": {},
   "source": [
    "# 5 Given:\n",
    "# a = np.array([1, 2, 3])\n",
    "# b = np.array([4, 5, 6])\n",
    "\n",
    "# Perform element-wise addition, subtraction, multiplication, and division.\n"
   ]
  },
  {
   "cell_type": "code",
   "execution_count": null,
   "id": "e1512c6f",
   "metadata": {},
   "outputs": [],
   "source": [
    "import numpy as np\n",
    "\n",
    "a = np.array([1, 2, 3])\n",
    "b = np.array([4, 5, 6])\n",
    "\n",
    "print(a + b)\n",
    "print(a - b)\n",
    "print(a * b)\n",
    "print(a / b)\n"
   ]
  },
  {
   "cell_type": "markdown",
   "id": "1c6cfce9",
   "metadata": {},
   "source": [
    "# 6 Create a 1D array of numbers from 1 to 12. Reshape it into:  3×4 matrix"
   ]
  },
  {
   "cell_type": "code",
   "execution_count": null,
   "id": "b48695fb",
   "metadata": {},
   "outputs": [],
   "source": [
    "import numpy as np\n",
    "\n",
    "arr = np.arange(1, 13)\n",
    "reshaped = arr.reshape(3, 4)\n",
    "\n",
    "print(arr)\n",
    "print(reshaped)\n"
   ]
  }
 ],
 "metadata": {
  "kernelspec": {
   "display_name": "Python 3",
   "language": "python",
   "name": "python3"
  },
  "language_info": {
   "codemirror_mode": {
    "name": "ipython",
    "version": 3
   },
   "file_extension": ".py",
   "mimetype": "text/x-python",
   "name": "python",
   "nbconvert_exporter": "python",
   "pygments_lexer": "ipython3",
   "version": "3.11.9"
  }
 },
 "nbformat": 4,
 "nbformat_minor": 5
}
