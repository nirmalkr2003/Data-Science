{
 "cells": [
  {
   "cell_type": "markdown",
   "id": "a0f7a5c6",
   "metadata": {},
   "source": [
    "# functions"
   ]
  },
  {
   "cell_type": "markdown",
   "id": "16ba4a93",
   "metadata": {},
   "source": [
    "1.Write a Python program to find the maximum from the given three numbers.\n"
   ]
  },
  {
   "cell_type": "code",
   "execution_count": null,
   "id": "62a50cf3",
   "metadata": {},
   "outputs": [
    {
     "name": "stdout",
     "output_type": "stream",
     "text": [
      "6\n"
     ]
    }
   ],
   "source": [
    "def maximum(a,b,c):\n",
    "   print(max(a,b,c))\n",
    "\n",
    "a,b,c=map(int,input(\"enter the 3 nos seperated by space\").split())\n",
    "maximum(a,b,c)\n"
   ]
  },
  {
   "cell_type": "markdown",
   "id": "fd28a054",
   "metadata": {},
   "source": [
    "2.Prime or Not Prime"
   ]
  },
  {
   "cell_type": "code",
   "execution_count": null,
   "id": "e72c7bc5",
   "metadata": {},
   "outputs": [
    {
     "name": "stdout",
     "output_type": "stream",
     "text": [
      "prime\n"
     ]
    }
   ],
   "source": [
    "def prime(n):\n",
    "  if n>1:\n",
    "    for i in range(2,int(n**0.5)+1):\n",
    "      if n%i==0:\n",
    "        print(\"not prime\")\n",
    "        break\n",
    "    else:\n",
    "      print(\"prime\")\n",
    "  else:\n",
    "    print(\"neither prime nor composite\")\n",
    "      \n",
    "n=int(input())\n",
    "prime(n)\n"
   ]
  },
  {
   "cell_type": "code",
   "execution_count": 19,
   "id": "1de22ffa",
   "metadata": {},
   "outputs": [
    {
     "name": "stdout",
     "output_type": "stream",
     "text": [
      "not prime\n"
     ]
    }
   ],
   "source": [
    "def prime(n):\n",
    "    if n <= 1:\n",
    "        print(\"neither prime nor composite\")\n",
    "        return\n",
    "\n",
    "    for i in range(2, int(n**0.5) + 1): \n",
    "        if n % i == 0:\n",
    "            print(\"not prime\")\n",
    "            return\n",
    "\n",
    "    print(\"prime\") \n",
    "\n",
    "n=int(input())\n",
    "prime(n)\n"
   ]
  },
  {
   "cell_type": "markdown",
   "id": "69faad2e",
   "metadata": {},
   "source": [
    "3.Factorial\n"
   ]
  },
  {
   "cell_type": "code",
   "execution_count": 3,
   "id": "62dc036a",
   "metadata": {},
   "outputs": [
    {
     "name": "stdout",
     "output_type": "stream",
     "text": [
      "Factorial = 720\n"
     ]
    }
   ],
   "source": [
    "def factorial(n):\n",
    "  if n<=1:\n",
    "    return 1\n",
    "  else:\n",
    "    return n*factorial(n-1)\n",
    "  \n",
    "num=int(input())\n",
    "print(\"Factorial =\", factorial(num))\n"
   ]
  },
  {
   "cell_type": "markdown",
   "id": "ffbc9a5d",
   "metadata": {},
   "source": [
    "4.Fibinocci Series using fn"
   ]
  },
  {
   "cell_type": "code",
   "execution_count": 5,
   "id": "dba5c42c",
   "metadata": {},
   "outputs": [
    {
     "name": "stdout",
     "output_type": "stream",
     "text": [
      "0 1 1 2 3 5 8 13 21 34 55 89 "
     ]
    }
   ],
   "source": [
    "def fibi(n):\n",
    "  if n<=1:\n",
    "    return n\n",
    "  else:\n",
    "    return fibi(n-1)+fibi(n-2)\n",
    "  \n",
    "num=int(input())\n",
    "for i in range(num):\n",
    "  print(fibi(i),end=\" \")\n"
   ]
  },
  {
   "cell_type": "markdown",
   "id": "f563b3ec",
   "metadata": {},
   "source": [
    "5.Write a Python program to calculate the sum of all the numbers present in a list."
   ]
  },
  {
   "cell_type": "code",
   "execution_count": 14,
   "id": "88fae030",
   "metadata": {},
   "outputs": [
    {
     "name": "stdout",
     "output_type": "stream",
     "text": [
      "[3, 5, 66, 1, 10]\n",
      "Sum =  85\n"
     ]
    }
   ],
   "source": [
    "def summ(l):\n",
    "  sum=0\n",
    "  for i in l:\n",
    "    sum+=i\n",
    "  print(\"Sum = \",sum)\n",
    "\n",
    "n=int(input(\"enter the no of elements in the list\"))\n",
    "while True:\n",
    "    l = list(map(int, input(\"Enter elements separated by space: \").split()))\n",
    "    if len(l) == n:\n",
    "        break\n",
    "\n",
    "print(l)\n",
    "summ(l)\n",
    "  \n"
   ]
  },
  {
   "cell_type": "markdown",
   "id": "33cdf35c",
   "metadata": {},
   "source": [
    "6.Products of nos in a list"
   ]
  },
  {
   "cell_type": "code",
   "execution_count": 16,
   "id": "d794b99d",
   "metadata": {},
   "outputs": [
    {
     "name": "stdout",
     "output_type": "stream",
     "text": [
      "[4, 5, 6]\n",
      "Product =  120\n"
     ]
    }
   ],
   "source": [
    "def prod(l):\n",
    "  sum=1\n",
    "  for i in l:\n",
    "    sum*=i\n",
    "  print(\"Product = \",sum)\n",
    "\n",
    "n=int(input(\"enter the no of elements in the list\"))\n",
    "while True:\n",
    "    l = list(map(int, input(\"Enter elements separated by space: \").split()))\n",
    "    if len(l) == n:\n",
    "        break\n",
    "\n",
    "print(l)\n",
    "prod(l)"
   ]
  },
  {
   "cell_type": "markdown",
   "id": "6014f7a8",
   "metadata": {},
   "source": [
    "7.Write a Python program that takes a string as an input and calculates the number of upper case and lower case letters present in the string"
   ]
  },
  {
   "cell_type": "code",
   "execution_count": 19,
   "id": "ee9fd323",
   "metadata": {},
   "outputs": [
    {
     "name": "stdout",
     "output_type": "stream",
     "text": [
      "MaTHemaTICS\n",
      "total uppercase =  7\n",
      "total lowercase =  4\n"
     ]
    }
   ],
   "source": [
    "def upperlower(s):\n",
    "  global upperc\n",
    "  global lowerc\n",
    "  for i in s:\n",
    "    if i.isupper():\n",
    "      upperc+=1\n",
    "    elif i.islower():\n",
    "      lowerc+=1\n",
    "    else:\n",
    "      pass\n",
    "\n",
    "s=input(\"enter your string\")\n",
    "upperc=0\n",
    "lowerc=0\n",
    "upperlower(s)\n",
    "print(s)\n",
    "print(\"total uppercase = \",upperc)\n",
    "print(\"total lowercase = \",lowerc)"
   ]
  },
  {
   "cell_type": "markdown",
   "id": "fae7b517",
   "metadata": {},
   "source": [
    "8.Max of 3"
   ]
  },
  {
   "cell_type": "code",
   "execution_count": 20,
   "id": "921c65df",
   "metadata": {},
   "outputs": [
    {
     "name": "stdout",
     "output_type": "stream",
     "text": [
      "34\n"
     ]
    }
   ],
   "source": [
    "def maximum(a,b,c):\n",
    "   print(max(a,b,c))\n",
    "\n",
    "a,b,c=map(int,input(\"enter the 3 nos seperated by space\").split())\n",
    "maximum(a,b,c)"
   ]
  },
  {
   "cell_type": "markdown",
   "id": "54f14e78",
   "metadata": {},
   "source": [
    "9.palindrome"
   ]
  },
  {
   "cell_type": "code",
   "execution_count": 26,
   "id": "034d1959",
   "metadata": {},
   "outputs": [
    {
     "name": "stdout",
     "output_type": "stream",
     "text": [
      "Amma\n",
      "palindrome\n"
     ]
    }
   ],
   "source": [
    "def palindrome(s):\n",
    "  s=s.lower()\n",
    "  \n",
    "  if s==s[::-1]:\n",
    "    print(\"palindrome\") \n",
    "  else:\n",
    "    print(\"not palindrome\")\n",
    "  \n",
    "s=input()\n",
    "print(s)\n",
    "palindrome(s)"
   ]
  },
  {
   "cell_type": "markdown",
   "id": "eb4cd497",
   "metadata": {},
   "source": [
    "10.Write a function to print all factors of a number"
   ]
  },
  {
   "cell_type": "code",
   "execution_count": 31,
   "id": "d4330ecc",
   "metadata": {},
   "outputs": [
    {
     "name": "stdout",
     "output_type": "stream",
     "text": [
      "1 2 3 6 9 18 "
     ]
    }
   ],
   "source": [
    "import math\n",
    "\n",
    "def factors(n):\n",
    "  result=set()\n",
    "  for i in range(1,int(math.sqrt(n)+1)):\n",
    "    if n%i==0:\n",
    "      result.add(i)\n",
    "      result.add(n//i)\n",
    "  for i in sorted(result):\n",
    "    print(i,end=\" \")\n",
    "\n",
    "num=int(input())\n",
    "factors(num)"
   ]
  }
 ],
 "metadata": {
  "kernelspec": {
   "display_name": "Python 3",
   "language": "python",
   "name": "python3"
  },
  "language_info": {
   "codemirror_mode": {
    "name": "ipython",
    "version": 3
   },
   "file_extension": ".py",
   "mimetype": "text/x-python",
   "name": "python",
   "nbconvert_exporter": "python",
   "pygments_lexer": "ipython3",
   "version": "3.11.9"
  }
 },
 "nbformat": 4,
 "nbformat_minor": 5
}
