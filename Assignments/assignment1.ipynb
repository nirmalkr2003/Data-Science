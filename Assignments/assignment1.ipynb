{
 "cells": [
  {
   "cell_type": "markdown",
   "id": "8dc274ef",
   "metadata": {},
   "source": [
    "# Assignment-1"
   ]
  },
  {
   "cell_type": "markdown",
   "id": "9e3b2c38",
   "metadata": {},
   "source": [
    "1.Take values of length and breadth of a rectangle from user and check if it is square or not."
   ]
  },
  {
   "cell_type": "code",
   "execution_count": 1,
   "id": "d083c3f4",
   "metadata": {},
   "outputs": [
    {
     "name": "stdout",
     "output_type": "stream",
     "text": [
      "not a square\n"
     ]
    }
   ],
   "source": [
    "a=int(input(\"enter the length\"))\n",
    "b=int(input(\"enter the breadth\"))\n",
    "if(a==b):\n",
    "  print(\"its a square\")\n",
    "else:\n",
    "  print(\"not a square\")"
   ]
  },
  {
   "cell_type": "markdown",
   "id": "14c6a258",
   "metadata": {},
   "source": [
    "2.A company decided to give bonus of 5% to employee if his/her year of service is more than 5 years.Ask user for their salary and year of service and print the net bonus amount"
   ]
  },
  {
   "cell_type": "code",
   "execution_count": 4,
   "id": "2fb1d86f",
   "metadata": {},
   "outputs": [
    {
     "name": "stdout",
     "output_type": "stream",
     "text": [
      "Salary:  89000\n",
      "Experience:  8\n",
      "4450.0\n"
     ]
    }
   ],
   "source": [
    "salary=int(input(\"enter the salary\"))\n",
    "year=int(input(\"enter your years of service\"))\n",
    "print(\"Salary: \",salary)\n",
    "print(\"Experience: \",year)\n",
    "net_bonus=0\n",
    "if year>5:\n",
    "  net_bonus+=salary*.05\n",
    "else:\n",
    "  print(\"not eligible\")\n",
    "\n",
    "if year>5:\n",
    "  print(net_bonus)"
   ]
  },
  {
   "cell_type": "markdown",
   "id": "2097ea52",
   "metadata": {},
   "source": [
    "3.Take a user input and check if it is even or not"
   ]
  },
  {
   "cell_type": "code",
   "execution_count": 5,
   "id": "bb9a7644",
   "metadata": {},
   "outputs": [
    {
     "name": "stdout",
     "output_type": "stream",
     "text": [
      "even\n"
     ]
    }
   ],
   "source": [
    "num=int(input(\"enter a number \"))\n",
    "if num%2==0:\n",
    "  print(\"even\")\n",
    "else:\n",
    "  print(\"odd\")"
   ]
  },
  {
   "cell_type": "markdown",
   "id": "66f51969",
   "metadata": {},
   "source": [
    "4.Take two int values from user and print greatest among them.(use if elif else)"
   ]
  },
  {
   "cell_type": "code",
   "execution_count": 7,
   "id": "3d040ca8",
   "metadata": {},
   "outputs": [
    {
     "name": "stdout",
     "output_type": "stream",
     "text": [
      "Second no is greater ie,  9\n"
     ]
    }
   ],
   "source": [
    "a=int(input(\"enter the first number\"))\n",
    "b=int(input(\"enter the second number\"))\n",
    "if a>b:\n",
    "  print(\"first no is greater ie, \",a)\n",
    "elif a<b:\n",
    "  print(\"Second no is greater ie, \",b)\n",
    "else:\n",
    "  print(\"both are equal\")"
   ]
  },
  {
   "cell_type": "markdown",
   "id": "ae1a4e99",
   "metadata": {},
   "source": [
    "5.Example A school has following rules for grading system:\n",
    "a. Below 25 - F\n",
    "b. 25 to 45 - E\n",
    "c. 45 to 50 - D\n",
    "d. 50 to 60 - C\n",
    "e. 60 to 80 - B\n",
    "f. Above 80 - A\n",
    "Ask user to enter marks and print the corresponding grade\n"
   ]
  },
  {
   "cell_type": "code",
   "execution_count": 16,
   "id": "1c20ee17",
   "metadata": {},
   "outputs": [
    {
     "name": "stdout",
     "output_type": "stream",
     "text": [
      "Marks:  67.5\n",
      "Grade:B\n"
     ]
    }
   ],
   "source": [
    "\n",
    "while True:\n",
    "  marks=float(input(\"enter the marks\"))\n",
    "\n",
    "  if 0 <= marks <= 100:\n",
    "    break\n",
    "\n",
    "print(\"Marks: \",marks)\n",
    "\n",
    "if marks <25:\n",
    "  print(\"Grade:F\")\n",
    "elif 25<=marks<=45:\n",
    "  print(\"Grade:E\")\n",
    "elif 45<=marks<=50:\n",
    "  print(\"Grade:D\")\n",
    "elif 50<=marks<=60:\n",
    "  print(\"Grade:C\")\n",
    "elif 60<=marks<=80:\n",
    "  print(\"Grade:B\")\n",
    "elif marks>80:\n",
    "  print(\"Grade:A\")\n",
    "else:\n",
    "  print(\"invalid.Re-enter\")"
   ]
  },
  {
   "cell_type": "markdown",
   "id": "7e03f310",
   "metadata": {},
   "source": [
    "6.Take input fro user of ages of 3 people and check who is oldest"
   ]
  },
  {
   "cell_type": "code",
   "execution_count": 10,
   "id": "e9ceca27",
   "metadata": {},
   "outputs": [
    {
     "name": "stdout",
     "output_type": "stream",
     "text": [
      " person A is older:  87\n"
     ]
    }
   ],
   "source": [
    "a=int(input(\"enter age of person a\" ))\n",
    "b=int(input(\"enter age of person b\" ))\n",
    "c=int(input(\"enter age of person c\" ))\n",
    "if a>=b and a>=c:\n",
    "  print(\" person A is older: \",a)\n",
    "elif b>=c and b>=a:\n",
    "  print(\"person B is older: \",b)\n",
    "elif c>=b and c>=a:\n",
    "  print(\"person C is older: \",c)"
   ]
  },
  {
   "cell_type": "markdown",
   "id": "b705083d",
   "metadata": {},
   "source": [
    "7.A student will not be allowed to sit in exam if his/her attendence is less than 75%.\n",
    "Take following input from user\n",
    "Number of classes held\n",
    "Number of classes attended.\n",
    "And print percentage of class attended\n",
    "Is student is allowed to sit in exam or not.\n"
   ]
  },
  {
   "cell_type": "code",
   "execution_count": 11,
   "id": "5e0bf3b4",
   "metadata": {},
   "outputs": [
    {
     "name": "stdout",
     "output_type": "stream",
     "text": [
      "Student\n",
      "class percentage:  72.0\n",
      "not allowed,you are done!\n"
     ]
    }
   ],
   "source": [
    "print(\"Student\")\n",
    "c1=int(input(\"enter the total classes held\"))\n",
    "c2=int(input(\"classes attended\"))\n",
    "percent=(c2/c1)*100\n",
    "print(\"class percentage: \",percent)\n",
    "if percent>=75:\n",
    "  print(\"Allowed to sit in class\")\n",
    "else:\n",
    "  print(\"not allowed,you are done!\")"
   ]
  }
 ],
 "metadata": {
  "kernelspec": {
   "display_name": "Python 3",
   "language": "python",
   "name": "python3"
  },
  "language_info": {
   "codemirror_mode": {
    "name": "ipython",
    "version": 3
   },
   "file_extension": ".py",
   "mimetype": "text/x-python",
   "name": "python",
   "nbconvert_exporter": "python",
   "pygments_lexer": "ipython3",
   "version": "3.11.9"
  }
 },
 "nbformat": 4,
 "nbformat_minor": 5
}
