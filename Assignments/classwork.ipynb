{
 "cells": [
  {
   "cell_type": "code",
   "execution_count": 3,
   "id": "1c34dbce",
   "metadata": {},
   "outputs": [
    {
     "name": "stdout",
     "output_type": "stream",
     "text": [
      "54 43 2 1 5 "
     ]
    }
   ],
   "source": [
    "l=[54, 43, 2, 1, 5]\n",
    "for i in l:\n",
    "  print(i,end=\" \")"
   ]
  },
  {
   "cell_type": "code",
   "execution_count": 4,
   "id": "2159b561",
   "metadata": {},
   "outputs": [
    {
     "name": "stdout",
     "output_type": "stream",
     "text": [
      "105\n"
     ]
    }
   ],
   "source": [
    "l=[54, 43, 2, 1, 5]\n",
    "sum=0\n",
    "for i in l:\n",
    "  sum+=i\n",
    "\n",
    "print(sum)"
   ]
  },
  {
   "cell_type": "code",
   "execution_count": 5,
   "id": "9e8924b9",
   "metadata": {},
   "outputs": [
    {
     "name": "stdout",
     "output_type": "stream",
     "text": [
      "[1, 2, 3]\n"
     ]
    }
   ],
   "source": [
    "a=1\n",
    "b=2\n",
    "c=3\n",
    "l=[]\n",
    "l.append(a)\n",
    "l.append(b)\n",
    "l.append(c)\n",
    "print(l)"
   ]
  },
  {
   "cell_type": "code",
   "execution_count": 7,
   "id": "6120f576",
   "metadata": {},
   "outputs": [
    {
     "name": "stdout",
     "output_type": "stream",
     "text": [
      "average:  10.0\n"
     ]
    }
   ],
   "source": [
    "l=[-12, 8, -7, 6, 12, -9, 14]\n",
    "count=0\n",
    "sum=0\n",
    "for i in l:\n",
    "  if i>=0:\n",
    "    sum+=i\n",
    "    count+=1\n",
    "\n",
    "print(\"average: \",sum/count)\n",
    "\n"
   ]
  },
  {
   "cell_type": "code",
   "execution_count": 14,
   "id": "868a2892",
   "metadata": {},
   "outputs": [
    {
     "name": "stdout",
     "output_type": "stream",
     "text": [
      "perfect no\n"
     ]
    }
   ],
   "source": [
    "num=int(input())\n",
    "num\n",
    "sum=0\n",
    "if num<2:\n",
    "  print(\"not perfect\")\n",
    "\n",
    "else:\n",
    "  for i in range(1,num):\n",
    "    if num%i==0:\n",
    "      sum+=i\n",
    "\n",
    "  if(num==sum):\n",
    "    print(\"perfect no\")\n",
    "    \n",
    "  else:\n",
    "    print(\"not perfect\")"
   ]
  }
 ],
 "metadata": {
  "kernelspec": {
   "display_name": "Python 3",
   "language": "python",
   "name": "python3"
  },
  "language_info": {
   "codemirror_mode": {
    "name": "ipython",
    "version": 3
   },
   "file_extension": ".py",
   "mimetype": "text/x-python",
   "name": "python",
   "nbconvert_exporter": "python",
   "pygments_lexer": "ipython3",
   "version": "3.11.9"
  }
 },
 "nbformat": 4,
 "nbformat_minor": 5
}
