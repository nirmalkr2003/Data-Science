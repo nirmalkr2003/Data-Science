{
 "cells": [
  {
   "cell_type": "code",
   "execution_count": null,
   "id": "aa008776",
   "metadata": {},
   "outputs": [],
   "source": [
    "num=input()\n",
    "for i in num:\n",
    "  "
   ]
  },
  {
   "cell_type": "code",
   "execution_count": 9,
   "id": "33b2a5cf",
   "metadata": {},
   "outputs": [
    {
     "name": "stdout",
     "output_type": "stream",
     "text": [
      "i am five 5 i am six 6\n"
     ]
    }
   ],
   "source": [
    "a=5\n",
    "b=6\n",
    "print(\"i am five\",a,\"i am six\",b)"
   ]
  },
  {
   "cell_type": "code",
   "execution_count": 8,
   "id": "0e391127",
   "metadata": {},
   "outputs": [
    {
     "name": "stdout",
     "output_type": "stream",
     "text": [
      "2\n"
     ]
    }
   ],
   "source": [
    "print(a)"
   ]
  },
  {
   "cell_type": "code",
   "execution_count": 7,
   "id": "584e762f",
   "metadata": {},
   "outputs": [
    {
     "name": "stdout",
     "output_type": "stream",
     "text": [
      "2\n"
     ]
    }
   ],
   "source": [
    "a=2\n",
    "print(a)"
   ]
  },
  {
   "cell_type": "code",
   "execution_count": 5,
   "id": "5e260005",
   "metadata": {},
   "outputs": [
    {
     "name": "stdout",
     "output_type": "stream",
     "text": [
      "3\n"
     ]
    }
   ],
   "source": [
    "a=3\n",
    "print(a)"
   ]
  },
  {
   "cell_type": "code",
   "execution_count": 3,
   "id": "eb75dc1b",
   "metadata": {},
   "outputs": [
    {
     "name": "stdout",
     "output_type": "stream",
     "text": [
      "hii\n"
     ]
    }
   ],
   "source": [
    "# print(\"hello\")\n",
    "print(\"hii\")"
   ]
  },
  {
   "cell_type": "code",
   "execution_count": 5,
   "id": "8e5b848f",
   "metadata": {},
   "outputs": [
    {
     "name": "stdout",
     "output_type": "stream",
     "text": [
      "<class 'str'>\n"
     ]
    }
   ],
   "source": [
    "name='nirmal'\n",
    "name\n",
    "print(type(name))"
   ]
  },
  {
   "cell_type": "code",
   "execution_count": 7,
   "id": "93f6f619",
   "metadata": {},
   "outputs": [
    {
     "name": "stdout",
     "output_type": "stream",
     "text": [
      "my name is\n",
      "nirmal kr\n"
     ]
    }
   ],
   "source": [
    "para='''my name is\n",
    "nirmal kr'''\n",
    "print(para)"
   ]
  },
  {
   "cell_type": "markdown",
   "id": "e6fe8e50",
   "metadata": {},
   "source": [
    "# typecasting\n"
   ]
  },
  {
   "cell_type": "code",
   "execution_count": 9,
   "id": "ff2826be",
   "metadata": {},
   "outputs": [
    {
     "name": "stdout",
     "output_type": "stream",
     "text": [
      "<class 'int'>\n",
      "<class 'float'>\n",
      "<class 'str'>\n",
      "<class 'complex'>\n",
      "<class 'bool'>\n"
     ]
    }
   ],
   "source": [
    "a=6\n",
    "b=6.66\n",
    "c='nirmal'\n",
    "d=3+0j\n",
    "e=True\n",
    "print(type(a))\n",
    "print(type(b))\n",
    "print(type(c))\n",
    "print(type(d))\n",
    "print(type(e))\n"
   ]
  },
  {
   "cell_type": "code",
   "execution_count": 10,
   "id": "25264715",
   "metadata": {},
   "outputs": [
    {
     "data": {
      "text/plain": [
       "6.0"
      ]
     },
     "execution_count": 10,
     "metadata": {},
     "output_type": "execute_result"
    }
   ],
   "source": [
    "float(a)"
   ]
  },
  {
   "cell_type": "code",
   "execution_count": 12,
   "id": "65ff4586",
   "metadata": {},
   "outputs": [
    {
     "name": "stdout",
     "output_type": "stream",
     "text": [
      "1.0\n"
     ]
    }
   ],
   "source": [
    "int(e)\n",
    "print(float(e))"
   ]
  },
  {
   "cell_type": "code",
   "execution_count": 13,
   "id": "03fe1a77",
   "metadata": {},
   "outputs": [
    {
     "data": {
      "text/plain": [
       "(6+0j)"
      ]
     },
     "execution_count": 13,
     "metadata": {},
     "output_type": "execute_result"
    }
   ],
   "source": [
    "complex(a)"
   ]
  },
  {
   "cell_type": "code",
   "execution_count": 14,
   "id": "8a0cd50c",
   "metadata": {},
   "outputs": [
    {
     "data": {
      "text/plain": [
       "(3+5j)"
      ]
     },
     "execution_count": 14,
     "metadata": {},
     "output_type": "execute_result"
    }
   ],
   "source": [
    "complex(3,5)"
   ]
  },
  {
   "cell_type": "markdown",
   "id": "03547b8c",
   "metadata": {},
   "source": [
    "# arithementic operators"
   ]
  },
  {
   "cell_type": "code",
   "execution_count": null,
   "id": "5058d7a4",
   "metadata": {},
   "outputs": [
    {
     "name": "stdout",
     "output_type": "stream",
     "text": [
      "19\n",
      "7\n",
      "78\n",
      "2.1666666666666665\n",
      "2\n",
      "4826809\n",
      "1\n"
     ]
    }
   ],
   "source": [
    "x=13\n",
    "y=6\n",
    "print(x+y)\n",
    "print(x-y)\n",
    "print(x*y)\n",
    "print(x/y)\n",
    "print(x//y) #floor div\n",
    "print(x**y) #exp\n",
    "print(x%y)"
   ]
  },
  {
   "cell_type": "markdown",
   "id": "d4d21db6",
   "metadata": {},
   "source": [
    "# concatenation"
   ]
  },
  {
   "cell_type": "code",
   "execution_count": 21,
   "id": "1a9dc2d2",
   "metadata": {},
   "outputs": [
    {
     "name": "stdout",
     "output_type": "stream",
     "text": [
      "nirmal   kr\n"
     ]
    }
   ],
   "source": [
    "name='nirmal'\n",
    "sur='kr'\n",
    "print(name +\"   \"+ sur)"
   ]
  },
  {
   "cell_type": "code",
   "execution_count": 23,
   "id": "688fc487",
   "metadata": {},
   "outputs": [
    {
     "name": "stdout",
     "output_type": "stream",
     "text": [
      "False\n",
      "True\n",
      "True\n",
      "True\n"
     ]
    }
   ],
   "source": [
    "a=7\n",
    "b=9\n",
    "print(a==b)\n",
    "print(b>a)\n",
    "print(a!=b)\n",
    "print(a<=b)"
   ]
  },
  {
   "cell_type": "code",
   "execution_count": 25,
   "id": "f2b58940",
   "metadata": {},
   "outputs": [
    {
     "name": "stdout",
     "output_type": "stream",
     "text": [
      "6\n"
     ]
    }
   ],
   "source": [
    "a=5\n",
    "a+=1\n",
    "print(a)"
   ]
  },
  {
   "cell_type": "markdown",
   "id": "d9c1f566",
   "metadata": {},
   "source": [
    "# logical op"
   ]
  },
  {
   "cell_type": "code",
   "execution_count": 29,
   "id": "2237fd69",
   "metadata": {},
   "outputs": [
    {
     "name": "stdout",
     "output_type": "stream",
     "text": [
      "False\n",
      "True\n",
      "False\n"
     ]
    }
   ],
   "source": [
    "a=19\n",
    "b=7\n",
    "c=7\n",
    "print(a>b and b>10)\n",
    "print(a>b or b>10)\n",
    "print(not(a>b or b>10))"
   ]
  },
  {
   "cell_type": "code",
   "execution_count": 33,
   "id": "34768e20",
   "metadata": {},
   "outputs": [
    {
     "name": "stdout",
     "output_type": "stream",
     "text": [
      "True\n"
     ]
    }
   ],
   "source": [
    "l=[12,13,18,19,21,'nirmal']\n",
    "21 in l\n",
    "print('nirmal' in l)\n"
   ]
  },
  {
   "cell_type": "markdown",
   "id": "dd0f3b0f",
   "metadata": {},
   "source": [
    "# identity op\n"
   ]
  },
  {
   "cell_type": "code",
   "execution_count": 35,
   "id": "ec4d65bf",
   "metadata": {},
   "outputs": [
    {
     "name": "stdout",
     "output_type": "stream",
     "text": [
      "False\n",
      "True\n",
      "False\n"
     ]
    }
   ],
   "source": [
    "x=10\n",
    "y=20\n",
    "z=10\n",
    "print(x is y)\n",
    "print(x is z)\n",
    "print( x is not z)"
   ]
  },
  {
   "cell_type": "markdown",
   "id": "f4fea918",
   "metadata": {},
   "source": [
    "# conditional statements"
   ]
  },
  {
   "cell_type": "code",
   "execution_count": 40,
   "id": "a9134fed",
   "metadata": {},
   "outputs": [
    {
     "name": "stdout",
     "output_type": "stream",
     "text": [
      "a is greater than b\n"
     ]
    }
   ],
   "source": [
    "a=6\n",
    "b=5\n",
    "\n",
    "if(a>b):\n",
    "  print(\"a is greater than b\")\n",
    "elif (a<b):\n",
    "  print(\"a is less than b\")\n",
    "else:\n",
    "  print(\"a is equ to b\")"
   ]
  },
  {
   "cell_type": "code",
   "execution_count": 43,
   "id": "ff4068c4",
   "metadata": {},
   "outputs": [
    {
     "name": "stdout",
     "output_type": "stream",
     "text": [
      "-2\n"
     ]
    }
   ],
   "source": [
    "a=int(input(\"enter the no\"))\n",
    "if a>0:\n",
    "  print(a**2)\n",
    "else:\n",
    "  print(a)\n"
   ]
  },
  {
   "cell_type": "code",
   "execution_count": null,
   "id": "17435cf2",
   "metadata": {},
   "outputs": [
    {
     "name": "stdout",
     "output_type": "stream",
     "text": [
      "not square\n"
     ]
    }
   ],
   "source": []
  },
  {
   "cell_type": "markdown",
   "id": "e19955d2",
   "metadata": {},
   "source": [
    "Debugging can be started in the [Debug View](command:workbench.view.debug) or by using the [Start Debugging Command](command:workbench.action.debug.run)."
   ]
  },
  {
   "cell_type": "code",
   "execution_count": null,
   "id": "fe478347",
   "metadata": {},
   "outputs": [],
   "source": [
    "{\n",
    "  \"configurations\": [\n",
    "    {\n",
    "      \"type\": \"debugpy\",\n",
    "      \"request\": \"launch\",\n",
    "      \"name\": \"Launch Jupyter Notebook\",\n",
    "      \"program\": \"${workspaceFolder}/${input:notebookFile}\",\n",
    "      \"console\": \"integratedTerminal\"\n",
    "    }\n",
    "  ],\n",
    "  \"inputs\": [\n",
    "    {\n",
    "      \"type\": \"pickString\",\n",
    "      \"id\": \"notebookFile\",\n",
    "      \"description\": \"Select the Jupyter notebook to debug\",\n",
    "      \"options\": [\n",
    "        \"python/i.ipynb\",\n",
    "        \"python/new.ipynb\",\n",
    "        \"python/variables.ipynb\"\n",
    "      ]\n",
    "    }\n",
    "  ]\n",
    "}"
   ]
  },
  {
   "cell_type": "markdown",
   "id": "09cb45e5",
   "metadata": {},
   "source": [
    "Debugging can be started in the [Debug View](command:workbench.view.debug) or by using the [Start Debugging Command](command:workbench.action.debug.run)."
   ]
  },
  {
   "cell_type": "markdown",
   "id": "be9138f0",
   "metadata": {},
   "source": [
    "Debugging can be started in the [Debug View](command:workbench.view.debug) or by using the [Start Debugging Command](command:workbench.action.debug.run)."
   ]
  },
  {
   "cell_type": "code",
   "execution_count": null,
   "id": "b4a113c2",
   "metadata": {},
   "outputs": [],
   "source": [
    "import numpy as np\n",
    "np.array\n"
   ]
  },
  {
   "cell_type": "code",
   "execution_count": 1,
   "id": "2bad8c11",
   "metadata": {},
   "outputs": [
    {
     "name": "stdout",
     "output_type": "stream",
     "text": [
      "its a square\n"
     ]
    }
   ],
   "source": [
    "\n",
    "a=int(input(\"enter the length\"))\n",
    "b=int(input(\"enter the breadth\"))\n",
    "if(a==b):\n",
    "  print(\"its a square\")\n",
    "else:\n",
    "  print(\"not a square\")"
   ]
  },
  {
   "cell_type": "markdown",
   "id": "0b6bb7b9",
   "metadata": {},
   "source": [
    "# bonus calc"
   ]
  },
  {
   "cell_type": "code",
   "execution_count": 4,
   "id": "c2695b08",
   "metadata": {},
   "outputs": [
    {
     "name": "stdout",
     "output_type": "stream",
     "text": [
      "not eligible\n"
     ]
    }
   ],
   "source": [
    "salary=int(input(\"enter the salary\"))\n",
    "year=int(input(\"enter your years of service\"))\n",
    "net_bonus=0\n",
    "if year>5:\n",
    "  net_bonus+=salary*.05\n",
    "else:\n",
    "  print(\"not eligible\")\n",
    "\n",
    "if year>5:\n",
    "  print(net_bonus)\n"
   ]
  },
  {
   "cell_type": "code",
   "execution_count": 6,
   "id": "b50af5c3",
   "metadata": {},
   "outputs": [
    {
     "name": "stdout",
     "output_type": "stream",
     "text": [
      "odd\n"
     ]
    }
   ],
   "source": [
    "num=int(input(\"enter a number \"))\n",
    "if num%2==0:\n",
    "  print(\"even\")\n",
    "else:\n",
    "  print(\"odd\")"
   ]
  },
  {
   "cell_type": "markdown",
   "id": "c8028a43",
   "metadata": {},
   "source": [
    "# largest of 2"
   ]
  },
  {
   "cell_type": "code",
   "execution_count": 7,
   "id": "8b355988",
   "metadata": {},
   "outputs": [
    {
     "name": "stdout",
     "output_type": "stream",
     "text": [
      "both are equal\n"
     ]
    }
   ],
   "source": [
    "a=int(input(\"enter the first number\"))\n",
    "b=int(input(\"enter the second number\"))\n",
    "if a>b:\n",
    "  print(\"first no is greater\")\n",
    "elif a<b:\n",
    "  print(\"Second no is greater\")\n",
    "else:\n",
    "  print(\"both are equal\")"
   ]
  },
  {
   "cell_type": "markdown",
   "id": "d1a278c4",
   "metadata": {},
   "source": [
    "# grade card"
   ]
  },
  {
   "cell_type": "code",
   "execution_count": null,
   "id": "7c18bc74",
   "metadata": {},
   "outputs": [
    {
     "name": "stdout",
     "output_type": "stream",
     "text": [
      "Grade:B\n"
     ]
    }
   ],
   "source": [
    "marks=float(input(\"enter the marks\"))\n",
    "if marks <25:\n",
    "  print(\"Grade:F\")\n",
    "elif 25<=marks<=45:\n",
    "  print(\"Grade:E\")\n",
    "elif 45<=marks<=50:\n",
    "  print(\"Grade:D\")\n",
    "elif 50<=marks<=60:\n",
    "  print(\"Grade:C\")\n",
    "elif 60<=marks<=80:\n",
    "  print(\"Grade:B\")\n",
    "elif marks>80:\n",
    "  print(\"Grade:A\")\n",
    "else:\n",
    "  print(\"invalid.Re-enter\")\n"
   ]
  },
  {
   "cell_type": "markdown",
   "id": "5da0450f",
   "metadata": {},
   "source": [
    "# largest of 3"
   ]
  },
  {
   "cell_type": "code",
   "execution_count": 10,
   "id": "14f82ad6",
   "metadata": {},
   "outputs": [
    {
     "name": "stdout",
     "output_type": "stream",
     "text": [
      "person c is older:  99\n"
     ]
    }
   ],
   "source": [
    "a=int(input(\"enter age of person a\" ))\n",
    "b=int(input(\"enter age of person b\" ))\n",
    "c=int(input(\"enter age of person c\" ))\n",
    "if a>=b and a>=c:\n",
    "  print(\" person a is older: \",a)\n",
    "elif b>=c and b>=a:\n",
    "  print(\"person b is older: \",b)\n",
    "elif c>=b and c>=a:\n",
    "  print(\"person c is older: \",c)"
   ]
  },
  {
   "cell_type": "markdown",
   "id": "c323c7b9",
   "metadata": {},
   "source": [
    "# attendance"
   ]
  },
  {
   "cell_type": "code",
   "execution_count": 12,
   "id": "18ea6fa7",
   "metadata": {},
   "outputs": [
    {
     "name": "stdout",
     "output_type": "stream",
     "text": [
      "Student\n",
      "class percentage:  72.0\n",
      "not allowed,you are done!\n"
     ]
    }
   ],
   "source": [
    "print(\"Student\")\n",
    "c1=int(input(\"enter the total classes held\"))\n",
    "c2=int(input(\"classes attended\"))\n",
    "percent=(c2/c1)*100\n",
    "print(\"class percentage: \",percent)\n",
    "if percent>=75:\n",
    "  print(\"Allowed to sit in class\")\n",
    "else:\n",
    "  print(\"not allowed,you are done!\")"
   ]
  }
 ],
 "metadata": {
  "kernelspec": {
   "display_name": "Python 3",
   "language": "python",
   "name": "python3"
  },
  "language_info": {
   "codemirror_mode": {
    "name": "ipython",
    "version": 3
   },
   "file_extension": ".py",
   "mimetype": "text/x-python",
   "name": "python",
   "nbconvert_exporter": "python",
   "pygments_lexer": "ipython3",
   "version": "3.11.9"
  }
 },
 "nbformat": 4,
 "nbformat_minor": 5
}
