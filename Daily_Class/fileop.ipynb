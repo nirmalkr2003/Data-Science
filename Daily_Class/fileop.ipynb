{
 "cells": [
  {
   "cell_type": "code",
   "execution_count": 15,
   "id": "f6d2192d",
   "metadata": {},
   "outputs": [
    {
     "name": "stdout",
     "output_type": "stream",
     "text": [
      "i,am nirmal\n",
      "I,AM NIRMAL\n",
      "['I,', 'm Nirm', 'l']\n"
     ]
    },
    {
     "data": {
      "text/plain": [
       "'I, m Nirm l'"
      ]
     },
     "execution_count": 15,
     "metadata": {},
     "output_type": "execute_result"
    }
   ],
   "source": [
    "s=\"I,am Nirmal\"\n",
    "s1=s.upper()\n",
    "s2=s.lower()\n",
    "print(s2)\n",
    "print(s1)\n",
    "s3=s.split(\"a\")\n",
    "print(s3)\n",
    "' '.join(s3)"
   ]
  },
  {
   "cell_type": "code",
   "execution_count": 18,
   "id": "ed65a507",
   "metadata": {},
   "outputs": [
    {
     "data": {
      "text/plain": [
       "'Brilliant New Year'"
      ]
     },
     "execution_count": 18,
     "metadata": {},
     "output_type": "execute_result"
    }
   ],
   "source": [
    "s=\"Happy New Year\"\n",
    "s.replace(\"Happy\",\"Brilliant\")"
   ]
  },
  {
   "cell_type": "code",
   "execution_count": 5,
   "id": "172aef66",
   "metadata": {},
   "outputs": [
    {
     "name": "stdout",
     "output_type": "stream",
     "text": [
      "20\n",
      "6\n",
      "10\n"
     ]
    }
   ],
   "source": [
    "def glob(n):\n",
    "\n",
    "  f=20\n",
    "  print(f)\n",
    "  n=n+1\n",
    "  print(n)\n",
    "\n",
    "f=10\n",
    "glob(5)\n",
    "print(f)\n"
   ]
  },
  {
   "cell_type": "code",
   "execution_count": null,
   "id": "c42cf15a",
   "metadata": {},
   "outputs": [
    {
     "name": "stdout",
     "output_type": "stream",
     "text": [
      "7\n"
     ]
    },
    {
     "data": {
      "text/plain": [
       "5040"
      ]
     },
     "execution_count": 6,
     "metadata": {},
     "output_type": "execute_result"
    }
   ],
   "source": [
    "def fact(n):\n",
    "  if n==1 or n==0:\n",
    "    return 1\n",
    "  else:\n",
    "    return n*fact(n-1)\n",
    "  \n",
    "num=int(input())\n",
    "print(num)\n",
    "fact(num)"
   ]
  },
  {
   "cell_type": "code",
   "execution_count": null,
   "id": "6769b717",
   "metadata": {},
   "outputs": [
    {
     "name": "stdout",
     "output_type": "stream",
     "text": [
      "a= 15\n",
      "a= 50\n",
      "a= 10\n"
     ]
    }
   ],
   "source": [
    "def outer_fn():\n",
    "  a=50\n",
    "  def inner_fn():\n",
    "    a=15\n",
    "    print(\"a=\",a)\n",
    "\n",
    "  inner_fn()\n",
    "  print(\"a=\",50)\n",
    "\n",
    "a=10\n",
    "outer_fn()\n",
    "print(\"a=\",a)"
   ]
  },
  {
   "cell_type": "code",
   "execution_count": 21,
   "id": "07463836",
   "metadata": {},
   "outputs": [
    {
     "name": "stdout",
     "output_type": "stream",
     "text": [
      "a= 25\n",
      "50\n",
      "a= 15\n"
     ]
    }
   ],
   "source": [
    "def outer_fn():\n",
    "  a=50\n",
    "  def inner_fn():\n",
    "    a=25\n",
    "    print(\"a=\",a)\n",
    "  inner_fn()\n",
    "  print(a)\n",
    "\n",
    "a=15\n",
    "outer_fn()\n",
    "print(\"a=\",a)"
   ]
  },
  {
   "cell_type": "code",
   "execution_count": 18,
   "id": "bdc2350b",
   "metadata": {},
   "outputs": [
    {
     "name": "stdout",
     "output_type": "stream",
     "text": [
      "a= 25\n"
     ]
    }
   ],
   "source": [
    "outer_fn()"
   ]
  },
  {
   "cell_type": "code",
   "execution_count": 31,
   "id": "05b4d429",
   "metadata": {},
   "outputs": [
    {
     "name": "stdout",
     "output_type": "stream",
     "text": [
      "invalid literal for int() with base 10: 'abc'\n"
     ]
    }
   ],
   "source": [
    "s='abc'\n",
    "try:\n",
    "  int(s)\n",
    "except Exception as e:\n",
    "  print(e)\n",
    "  pass"
   ]
  },
  {
   "cell_type": "code",
   "execution_count": 36,
   "id": "3c8bc6c3",
   "metadata": {},
   "outputs": [
    {
     "name": "stdout",
     "output_type": "stream",
     "text": [
      "invalid literal for int() with base 10: 'abc'\n",
      "enter an integer value: \n"
     ]
    }
   ],
   "source": [
    "try:\n",
    "  x=int(input())\n",
    "  print(x*10)\n",
    "except ValueError as e:\n",
    "  print(e)\n",
    "  print(\"enter an integer value: \")"
   ]
  },
  {
   "cell_type": "code",
   "execution_count": 45,
   "id": "dea34c12",
   "metadata": {},
   "outputs": [],
   "source": [
    "f=open('example.txt')"
   ]
  },
  {
   "cell_type": "code",
   "execution_count": null,
   "id": "23cfb40c",
   "metadata": {},
   "outputs": [],
   "source": [
    "C:\\datascience\\python\\Daily_Class\\example.txt"
   ]
  },
  {
   "cell_type": "code",
   "execution_count": null,
   "id": "24cef982",
   "metadata": {},
   "outputs": [],
   "source": [
    "open()"
   ]
  },
  {
   "cell_type": "code",
   "execution_count": null,
   "id": "d7dcc3c3",
   "metadata": {},
   "outputs": [],
   "source": [
    "f=open('example.txt','a+')\n",
    "# f.readlines()"
   ]
  },
  {
   "cell_type": "code",
   "execution_count": 14,
   "id": "35b38afe",
   "metadata": {},
   "outputs": [
    {
     "data": {
      "text/plain": [
       "['Hii Nirmal\\n', 'Coolie Movie flopped!\\n', 'Waste of Money']"
      ]
     },
     "execution_count": 14,
     "metadata": {},
     "output_type": "execute_result"
    }
   ],
   "source": [
    "f.readlines()"
   ]
  },
  {
   "cell_type": "code",
   "execution_count": null,
   "id": "35e92625",
   "metadata": {},
   "outputs": [
    {
     "data": {
      "text/plain": [
       "3"
      ]
     },
     "execution_count": 19,
     "metadata": {},
     "output_type": "execute_result"
    }
   ],
   "source": [
    "f.write('hii')\n"
   ]
  },
  {
   "cell_type": "code",
   "execution_count": 23,
   "id": "a9e0f08e",
   "metadata": {},
   "outputs": [
    {
     "data": {
      "text/plain": [
       "5"
      ]
     },
     "execution_count": 23,
     "metadata": {},
     "output_type": "execute_result"
    }
   ],
   "source": [
    "f.write('hello')"
   ]
  },
  {
   "cell_type": "code",
   "execution_count": 30,
   "id": "7894071b",
   "metadata": {},
   "outputs": [
    {
     "data": {
      "text/plain": [
       "4"
      ]
     },
     "execution_count": 30,
     "metadata": {},
     "output_type": "execute_result"
    }
   ],
   "source": [
    "f.write('hiii')"
   ]
  },
  {
   "cell_type": "code",
   "execution_count": 32,
   "id": "b3aee9d1",
   "metadata": {},
   "outputs": [
    {
     "data": {
      "text/plain": [
       "['datatypes.ipynb',\n",
       " 'dict.ipynb',\n",
       " 'example.txt',\n",
       " 'function.ipynb',\n",
       " 'loops.ipynb',\n",
       " 'sample.ipynb',\n",
       " 'variables.ipynb']"
      ]
     },
     "execution_count": 32,
     "metadata": {},
     "output_type": "execute_result"
    }
   ],
   "source": [
    "import os\n",
    "os.listdir()"
   ]
  },
  {
   "cell_type": "code",
   "execution_count": 3,
   "id": "4c7eab62",
   "metadata": {},
   "outputs": [
    {
     "data": {
      "text/plain": [
       "['datatypes.ipynb',\n",
       " 'dict.ipynb',\n",
       " 'example.txt',\n",
       " 'fileop.ipynb',\n",
       " 'function.ipynb',\n",
       " 'loops.ipynb',\n",
       " 'variables.ipynb']"
      ]
     },
     "execution_count": 3,
     "metadata": {},
     "output_type": "execute_result"
    }
   ],
   "source": [
    "import os\n",
    "os.getcwd()\n",
    "os.listdir(os.getcwd())"
   ]
  }
 ],
 "metadata": {
  "kernelspec": {
   "display_name": "Python 3",
   "language": "python",
   "name": "python3"
  },
  "language_info": {
   "codemirror_mode": {
    "name": "ipython",
    "version": 3
   },
   "file_extension": ".py",
   "mimetype": "text/x-python",
   "name": "python",
   "nbconvert_exporter": "python",
   "pygments_lexer": "ipython3",
   "version": "3.11.9"
  }
 },
 "nbformat": 4,
 "nbformat_minor": 5
}
