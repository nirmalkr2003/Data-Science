{
 "cells": [
  {
   "cell_type": "code",
   "execution_count": null,
   "id": "19c7ace3",
   "metadata": {},
   "outputs": [
    {
     "data": {
      "text/plain": [
       "7"
      ]
     },
     "execution_count": 4,
     "metadata": {},
     "output_type": "execute_result"
    }
   ],
   "source": [
    "def add_num(a,b):\n",
    "  return a+b\n",
    "\n",
    "add_num(3,4)"
   ]
  },
  {
   "cell_type": "code",
   "execution_count": 6,
   "id": "123f78f3",
   "metadata": {},
   "outputs": [
    {
     "data": {
      "text/plain": [
       "7"
      ]
     },
     "execution_count": 6,
     "metadata": {},
     "output_type": "execute_result"
    }
   ],
   "source": [
    "def add_num():\n",
    "  return 3+4\n",
    "\n",
    "add_num()"
   ]
  },
  {
   "cell_type": "code",
   "execution_count": 8,
   "id": "ab3f4ff8",
   "metadata": {},
   "outputs": [
    {
     "name": "stdout",
     "output_type": "stream",
     "text": [
      "Number grater than 0\n"
     ]
    }
   ],
   "source": [
    "def check(n):\n",
    "  if n>0:\n",
    "    print(\"Number grater than 0\")\n",
    "  else:\n",
    "    print(\"Absolute no\")\n",
    "\n",
    "\n",
    "check(int(input(\"enter\")))\n"
   ]
  },
  {
   "cell_type": "code",
   "execution_count": 14,
   "id": "d8f41f24",
   "metadata": {},
   "outputs": [
    {
     "name": "stdout",
     "output_type": "stream",
     "text": [
      "27\n"
     ]
    }
   ],
   "source": [
    "def add(*arg):\n",
    "  s=0\n",
    "  for i in arg:\n",
    "    s+=i\n",
    "  print(s)\n",
    "\n",
    "add(1,2,3,3,4,5,4,5)\n"
   ]
  },
  {
   "cell_type": "code",
   "execution_count": 3,
   "id": "fb121e9d",
   "metadata": {},
   "outputs": [
    {
     "name": "stdout",
     "output_type": "stream",
     "text": [
      "5\n"
     ]
    },
    {
     "data": {
      "text/plain": [
       "120"
      ]
     },
     "execution_count": 3,
     "metadata": {},
     "output_type": "execute_result"
    }
   ],
   "source": [
    "def fact(n):\n",
    "  if n==1 or n==0:\n",
    "    return 1\n",
    "  else:\n",
    "    return n*fact(n-1)\n",
    "  \n",
    "num=int(input())\n",
    "print(num)\n",
    "fact(num)"
   ]
  },
  {
   "cell_type": "code",
   "execution_count": 4,
   "id": "42105382",
   "metadata": {},
   "outputs": [
    {
     "data": {
      "text/plain": [
       "9"
      ]
     },
     "execution_count": 4,
     "metadata": {},
     "output_type": "execute_result"
    }
   ],
   "source": [
    "def add_sum(a,b):\n",
    "  return a+b\n",
    "\n",
    "a=int(input())\n",
    "b=int(input())\n",
    "add_sum(a,b)"
   ]
  },
  {
   "cell_type": "markdown",
   "id": "eb02ba69",
   "metadata": {},
   "source": [
    "Syntax:\n",
    "lamba arguments : expression"
   ]
  },
  {
   "cell_type": "code",
   "execution_count": 8,
   "id": "0f410b8c",
   "metadata": {},
   "outputs": [
    {
     "data": {
      "text/plain": [
       "9"
      ]
     },
     "execution_count": 8,
     "metadata": {},
     "output_type": "execute_result"
    }
   ],
   "source": [
    "add_sum=lambda x,y:x+y\n",
    "\n",
    "add_sum(2,7)"
   ]
  },
  {
   "cell_type": "code",
   "execution_count": 11,
   "id": "2e96ccf6",
   "metadata": {},
   "outputs": [
    {
     "data": {
      "text/plain": [
       "[0, 1, 4, 9, 16, 25, 36, 49, 64, 81]"
      ]
     },
     "execution_count": 11,
     "metadata": {},
     "output_type": "execute_result"
    }
   ],
   "source": [
    "numbers = []\n",
    "for i in range(10):\n",
    "  numbers.append(i)\n",
    "squares = list(map(lambda x: x**2, numbers))\n",
    "squares\n"
   ]
  },
  {
   "cell_type": "code",
   "execution_count": 19,
   "id": "d2d3f4be",
   "metadata": {},
   "outputs": [
    {
     "name": "stdout",
     "output_type": "stream",
     "text": [
      "['APPLE', 'BANANA', 'GRAPES']\n"
     ]
    }
   ],
   "source": [
    "words=['apple','banana','grapes']\n",
    "upper_case=list(map(lambda x:x.upper(),words))\n",
    "print(upper_case)"
   ]
  },
  {
   "cell_type": "code",
   "execution_count": 16,
   "id": "be8a15af",
   "metadata": {},
   "outputs": [
    {
     "name": "stdout",
     "output_type": "stream",
     "text": [
      "['APPLE', 'BANANA', 'GRAPES']\n"
     ]
    }
   ],
   "source": [
    "def upper(s):\n",
    "  return s.upper()\n",
    "\n",
    "words=['apple','banana','grapes']\n",
    "upper_case=list(map(upper,words))\n",
    "print(upper_case)"
   ]
  },
  {
   "cell_type": "code",
   "execution_count": 20,
   "id": "7b876a40",
   "metadata": {},
   "outputs": [
    {
     "name": "stdout",
     "output_type": "stream",
     "text": [
      "[2, 4, 8, 12, 144]\n"
     ]
    }
   ],
   "source": [
    "def even(n):\n",
    "  return n%2==0\n",
    "\n",
    "num=[2,4,3,5,7,8,9,12,143,144]\n",
    "\n",
    "even_num=list(filter(even,num))\n",
    "print(even_num)"
   ]
  },
  {
   "cell_type": "code",
   "execution_count": 21,
   "id": "0f998128",
   "metadata": {},
   "outputs": [
    {
     "name": "stdout",
     "output_type": "stream",
     "text": [
      "[2, 4, 8, 12, 144]\n"
     ]
    }
   ],
   "source": [
    "\n",
    "\n",
    "num=[2,4,3,5,7,8,9,12,143,144]\n",
    "\n",
    "even_num=list(filter(lambda x:x%2==0,num))\n",
    "print(even_num)"
   ]
  },
  {
   "cell_type": "code",
   "execution_count": null,
   "id": "f74a6ce5",
   "metadata": {},
   "outputs": [
    {
     "data": {
      "text/plain": [
       "28"
      ]
     },
     "execution_count": 1,
     "metadata": {},
     "output_type": "execute_result"
    }
   ],
   "source": [
    "#sum of n numbers\n",
    "\n",
    "def sum_add(n):\n",
    "  if n<=0:\n",
    "    return n\n",
    "  else:\n",
    "    return n+sum_add(n-1)\n",
    "  \n",
    "\n",
    "num=int(input(\"enter\"))\n",
    "sum_add(num)"
   ]
  },
  {
   "cell_type": "code",
   "execution_count": 2,
   "id": "e99d9455",
   "metadata": {},
   "outputs": [
    {
     "data": {
      "text/plain": [
       "12"
      ]
     },
     "execution_count": 2,
     "metadata": {},
     "output_type": "execute_result"
    }
   ],
   "source": [
    "# sum of digits\n",
    "\n",
    "def sum_add(n):\n",
    "  if n<=10:\n",
    "    return n\n",
    "  else:\n",
    "    return n%10+sum_add(n//10)\n",
    "  \n",
    "n=int(input(\"enter a number\"))\n",
    "sum_add(n)"
   ]
  },
  {
   "cell_type": "code",
   "execution_count": 1,
   "id": "f93344dd",
   "metadata": {},
   "outputs": [
    {
     "name": "stdout",
     "output_type": "stream",
     "text": [
      "0 "
     ]
    }
   ],
   "source": [
    "# fibinocci\n",
    "\n",
    "def fibi(n):\n",
    "  if n<=1:\n",
    "    return n\n",
    "  else:\n",
    "    return fibi(n-1)+fibi(n-2)\n",
    "  \n",
    "num=int(input())\n",
    "for i in range(num):\n",
    "  print(fibi(i),end=' ')"
   ]
  }
 ],
 "metadata": {
  "kernelspec": {
   "display_name": "Python 3",
   "language": "python",
   "name": "python3"
  },
  "language_info": {
   "codemirror_mode": {
    "name": "ipython",
    "version": 3
   },
   "file_extension": ".py",
   "mimetype": "text/x-python",
   "name": "python",
   "nbconvert_exporter": "python",
   "pygments_lexer": "ipython3",
   "version": "3.11.9"
  }
 },
 "nbformat": 4,
 "nbformat_minor": 5
}
