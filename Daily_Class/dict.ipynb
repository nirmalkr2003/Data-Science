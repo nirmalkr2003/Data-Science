{
 "cells": [
  {
   "cell_type": "markdown",
   "id": "eae828be",
   "metadata": {},
   "source": [
    "# Dictionary in Python"
   ]
  },
  {
   "cell_type": "code",
   "execution_count": 11,
   "id": "ae5de427",
   "metadata": {},
   "outputs": [
    {
     "name": "stdout",
     "output_type": "stream",
     "text": [
      "{'a': 'nirmal', 'b': 'cijo'}\n",
      "dict_keys(['a', 'b'])\n",
      "nirmal\n",
      "dict_items([('a', 'nirmal'), ('b', 'cijo')])\n",
      "2\n"
     ]
    }
   ],
   "source": [
    "d={'a':'nirmal','b':'cijo'}\n",
    "print(d)\n",
    "print(d.keys())\n",
    "print(d['a'])\n",
    "print(d.items())\n",
    "print(len(d))\n"
   ]
  },
  {
   "cell_type": "code",
   "execution_count": 4,
   "id": "9b307157",
   "metadata": {},
   "outputs": [
    {
     "name": "stdout",
     "output_type": "stream",
     "text": [
      "{'name': 'nirmal', 'country': 'india'}\n"
     ]
    }
   ],
   "source": [
    "person=dict([(\"name\",\"nirmal\"),(\"country\",\"india\")])\n",
    "print(person)"
   ]
  },
  {
   "cell_type": "code",
   "execution_count": 5,
   "id": "1f3416d2",
   "metadata": {},
   "outputs": [
    {
     "name": "stdout",
     "output_type": "stream",
     "text": [
      "{'name': 'nirmal', 'telephones': [112, 345, 678]}\n"
     ]
    }
   ],
   "source": [
    "per={\"name\":\"nirmal\",\"telephones\":[112,345,678]}\n",
    "print(per)"
   ]
  },
  {
   "cell_type": "code",
   "execution_count": 17,
   "id": "9c7d27b0",
   "metadata": {},
   "outputs": [
    {
     "name": "stdout",
     "output_type": "stream",
     "text": [
      "{'a': 'nirmal', 'b': 'cijo'}\n",
      "<class 'dict'>\n",
      "nirmal\n"
     ]
    }
   ],
   "source": [
    "d={'a':'nirmal','b':'cijo'}\n",
    "print(d)\n",
    "print(type(d))\n",
    "print(d['a'])\n",
    "# print(d[2])"
   ]
  },
  {
   "cell_type": "code",
   "execution_count": 16,
   "id": "5b8a9082",
   "metadata": {},
   "outputs": [
    {
     "name": "stdout",
     "output_type": "stream",
     "text": [
      "Name:  nirmal\n",
      "Age:  21\n"
     ]
    }
   ],
   "source": [
    "d={'name':'nirmal','age':21}\n",
    "print(\"Name: \",d['name'])\n",
    "print(\"Age: \",d['age'])"
   ]
  },
  {
   "cell_type": "code",
   "execution_count": 20,
   "id": "b86d9783",
   "metadata": {},
   "outputs": [
    {
     "name": "stdout",
     "output_type": "stream",
     "text": [
      "{'brand': 'ford', 'year': 2020, 'model': 'air'}\n",
      "air\n"
     ]
    }
   ],
   "source": [
    "d={\n",
    "  \"brand\":\"ford\",\n",
    "  \"year\":2019,\n",
    "  \"model\":\"air\",\n",
    "  \"year\":2020\n",
    "}\n",
    "\n",
    "print(d)\n",
    "print(d['model'])"
   ]
  },
  {
   "cell_type": "code",
   "execution_count": 28,
   "id": "01c36517",
   "metadata": {},
   "outputs": [
    {
     "name": "stdout",
     "output_type": "stream",
     "text": [
      "nirmal\n",
      "21\n",
      "Data Science\n",
      "60\n",
      "{'name': 'nirmal', 'age': 29, 'marks': 60, 'place': 'kochi'}\n",
      "name:nirmal\n",
      "age:29\n",
      "marks:60\n",
      "place:kochi\n"
     ]
    }
   ],
   "source": [
    "d={\n",
    "  \"name\":\"nirmal\",\n",
    "  \"age\":21,\n",
    "  \"course\":\"Data Science\",\n",
    "  \"marks\":60\n",
    "}\n",
    "\n",
    "print(d[\"name\"])\n",
    "print(d[\"age\"])\n",
    "print(d[\"course\"])\n",
    "print(d[\"marks\"])\n",
    "\n",
    "#add new key value to the dict\n",
    "d[\"place\"]=\"kochi\"\n",
    "d[\"age\"]=29\n",
    "\n",
    "del d[\"course\"]\n",
    "print(d)\n",
    "\n",
    "\n",
    "# for key,value in d.items():\n",
    "#   print(f\"{key}:{value}\")\n",
    "\n",
    "\n",
    "for i,j in d.items():\n",
    "  print(f\"{i}:{j}\")"
   ]
  },
  {
   "cell_type": "code",
   "execution_count": 38,
   "id": "839e52e1",
   "metadata": {},
   "outputs": [
    {
     "name": "stdout",
     "output_type": "stream",
     "text": [
      "5\n",
      "Kochi\n",
      "167000\n",
      "HR\n",
      "{'empid': 5, 'city': 'Kochi', 'salary': 167000, 'department': 'HR', 'name': 'Nirmal', 'age': 29}\n",
      "\n",
      "{'empid': 5, 'salary': 167000, 'department': 'HR', 'name': 'Nirmal'}\n",
      "empid:5\n",
      "salary:167000\n",
      "department:HR\n",
      "name:Nirmal\n"
     ]
    }
   ],
   "source": [
    "emp={\"empid\":5,\"city\":\"Kochi\",\"salary\":167000,\"department\":\"HR\"}\n",
    "\n",
    "print(emp[\"empid\"])\n",
    "print(emp[\"city\"])\n",
    "print(emp[\"salary\"])\n",
    "print(emp[\"department\"])\n",
    "emp[\"name\"]=\"Nirmal\"\n",
    "emp[\"age\"]=29\n",
    "\n",
    "print(emp)\n",
    "\n",
    "del emp[\"age\"]\n",
    "del emp[\"city\"]\n",
    "\n",
    "print()\n",
    "print(emp)\n",
    "for i,j in emp.items():\n",
    "  print(f\"{i}:{j}\")\n"
   ]
  },
  {
   "cell_type": "code",
   "execution_count": 50,
   "id": "6c59f9e8",
   "metadata": {},
   "outputs": [
    {
     "name": "stdout",
     "output_type": "stream",
     "text": [
      "\n",
      "{'price': 450, 'stock': 75}\n",
      "{'apple': {'price': 450, 'stock': 75}, 'banana': {'price': 300, 'stock': 60}, 'mango': {'price': 100, 'stock': 120}}\n",
      "450\n"
     ]
    }
   ],
   "source": [
    "products={\n",
    "  \"apple\":{\"price\":450,\"stock\":75},\n",
    "  \"banana\":{\"price\":300,\"stock\":40},\n",
    "  \"orange\":{\"price\":260,\"stock\":58}\n",
    "}\n",
    "\n",
    "\n",
    "print()\n",
    "print(products[\"apple\"])\n",
    "\n",
    "products[\"mango\"]={\"price\":100,\"stock\":120}\n",
    "products[\"banana\"][\"stock\"]+=20\n",
    "\n",
    "products.pop(\"orange\")\n",
    "\n",
    "print(products)\n",
    "\n",
    "\n",
    "# for i,j in products.items():\n",
    "#   print(f\"{i}:{j}\")\n",
    "\n",
    "print(products[\"apple\"][\"price\"])\n"
   ]
  }
 ],
 "metadata": {
  "kernelspec": {
   "display_name": "Python 3",
   "language": "python",
   "name": "python3"
  },
  "language_info": {
   "codemirror_mode": {
    "name": "ipython",
    "version": 3
   },
   "file_extension": ".py",
   "mimetype": "text/x-python",
   "name": "python",
   "nbconvert_exporter": "python",
   "pygments_lexer": "ipython3",
   "version": "3.11.9"
  }
 },
 "nbformat": 4,
 "nbformat_minor": 5
}
