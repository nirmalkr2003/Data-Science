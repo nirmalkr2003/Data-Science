{
 "cells": [
  {
   "cell_type": "code",
   "execution_count": null,
   "id": "448e8fea",
   "metadata": {},
   "outputs": [
    {
     "data": {
      "text/plain": [
       "220"
      ]
     },
     "execution_count": 2,
     "metadata": {},
     "output_type": "execute_result"
    }
   ],
   "source": [
    "def lcm(a,b):\n",
    "  greater=max(a,b)\n",
    "  step=greater\n",
    "  while True:\n",
    "    \n",
    "    if greater%a==0 and greater %b==0:\n",
    "      return greater\n",
    "    greater+=step\n",
    "\n",
    "a,b=map(int,input(\"enter two nos \").split())\n",
    "lcm(a,b)\n"
   ]
  },
  {
   "cell_type": "code",
   "execution_count": null,
   "id": "c33558e0",
   "metadata": {},
   "outputs": [
    {
     "name": "stdout",
     "output_type": "stream",
     "text": [
      "HCF:  1\n"
     ]
    }
   ],
   "source": [
    "def hcf(a,b):\n",
    "  smaller=min(a,b)\n",
    "  for i in range(smaller,0,-1):\n",
    "    if a%i==0 and b%i==0:\n",
    "      print(\"HCF: \",i)\n",
    "      break\n",
    "  # else:\n",
    "  #   print(\"not common divisor\")\n",
    "\n",
    "\n",
    "a,b=map(int,input(\"enter two nos \").split())\n",
    "hcf(a,b)"
   ]
  },
  {
   "cell_type": "code",
   "execution_count": 10,
   "id": "d26d2c58",
   "metadata": {},
   "outputs": [
    {
     "name": "stdout",
     "output_type": "stream",
     "text": [
      "0 1 1 2 3 "
     ]
    }
   ],
   "source": [
    "def fibi(n):\n",
    "  if n<=1:\n",
    "    return n\n",
    "  else:\n",
    "    return fibi(n-1)+fibi(n-2)\n",
    "  \n",
    "num=int(input(\"enter\"))\n",
    "for i in range(num):\n",
    "  print(fibi(i),end=\" \")"
   ]
  },
  {
   "cell_type": "code",
   "execution_count": 5,
   "id": "c90ede1a",
   "metadata": {},
   "outputs": [
    {
     "name": "stdout",
     "output_type": "stream",
     "text": [
      "max ele:  99\n"
     ]
    }
   ],
   "source": [
    "l1=[]\n",
    "for i in range(4):\n",
    "  l1.append(int(input()))\n",
    "print(\"max ele: \",max(l1))"
   ]
  },
  {
   "cell_type": "code",
   "execution_count": 6,
   "id": "2c109980",
   "metadata": {},
   "outputs": [
    {
     "name": "stdout",
     "output_type": "stream",
     "text": [
      "99\n"
     ]
    }
   ],
   "source": [
    "l2=sorted(l1,reverse=True)\n",
    "print(l2[0])"
   ]
  },
  {
   "cell_type": "code",
   "execution_count": 7,
   "id": "01feae62",
   "metadata": {},
   "outputs": [
    {
     "name": "stdout",
     "output_type": "stream",
     "text": [
      "99\n"
     ]
    }
   ],
   "source": [
    "max_ele=l1[0]\n",
    "for i in l1:\n",
    "  if i>max_ele:\n",
    "    max_ele=i\n",
    "\n",
    "print(max_ele)"
   ]
  }
 ],
 "metadata": {
  "kernelspec": {
   "display_name": "Python 3",
   "language": "python",
   "name": "python3"
  },
  "language_info": {
   "codemirror_mode": {
    "name": "ipython",
    "version": 3
   },
   "file_extension": ".py",
   "mimetype": "text/x-python",
   "name": "python",
   "nbconvert_exporter": "python",
   "pygments_lexer": "ipython3",
   "version": "3.11.9"
  }
 },
 "nbformat": 4,
 "nbformat_minor": 5
}
