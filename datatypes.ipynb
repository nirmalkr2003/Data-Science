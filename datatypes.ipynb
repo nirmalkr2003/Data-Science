{
 "cells": [
  {
   "cell_type": "markdown",
   "id": "0ddc1b7c",
   "metadata": {},
   "source": [
    "# list\n",
    "\n",
    "index starts from 0\n",
    "l1[start:end] #slicing"
   ]
  },
  {
   "cell_type": "code",
   "execution_count": null,
   "id": "dbd1b8e6",
   "metadata": {},
   "outputs": [
    {
     "name": "stdout",
     "output_type": "stream",
     "text": [
      "[20, 'nirmal', 24, 24, ['aby', (3+0j)]]\n",
      "accessing index:  nirmal\n",
      "20\n",
      "nirmal\n",
      "24\n",
      "24\n",
      "['aby', (3+0j)]\n",
      "changed\n",
      "<class 'list'>\n",
      "5\n",
      "[24, 24]\n"
     ]
    }
   ],
   "source": [
    "l1=[20,'nirmal',24,24,['aby',3+0j]]\n",
    "print(l1)\n",
    "print(\"accessing index: \",l1[1])\n",
    "\n",
    "# for i in l1:\n",
    "#   print(i)\n",
    "\n",
    "# l1[1]='changed'\n",
    "# print(l1[1])\n",
    "\n",
    "print(type(l1))\n",
    "print(len(l1))\n",
    "\n",
    "#slicing\n",
    "\n",
    "print(l1[2:4])"
   ]
  },
  {
   "cell_type": "code",
   "execution_count": 21,
   "id": "f0aba7db",
   "metadata": {},
   "outputs": [
    {
     "name": "stdout",
     "output_type": "stream",
     "text": [
      "{1, 'nirmal', 88, 45, 79.55}\n",
      "1\n",
      "nirmal\n",
      "88\n",
      "45\n",
      "79.55\n",
      "<class 'set'>\n"
     ]
    }
   ],
   "source": [
    "s={1,'nirmal',45,88,79.55,79.55}\n",
    "print(s)\n",
    "for i in s:\n",
    "  print(i)\n",
    "print(type(s))"
   ]
  },
  {
   "cell_type": "code",
   "execution_count": 23,
   "id": "d5bcfda8",
   "metadata": {},
   "outputs": [
    {
     "name": "stdout",
     "output_type": "stream",
     "text": [
      "1\n",
      "(1, 2, 3, 4, 5, 5)\n",
      "1\n",
      "2\n",
      "3\n",
      "4\n",
      "5\n",
      "5\n",
      "index:  2\n",
      "<class 'tuple'>\n"
     ]
    }
   ],
   "source": [
    "t=(1,2,3,4,5,5)\n",
    "print(t[0])\n",
    "print(t)\n",
    "for i in t:\n",
    "  print(i)\n",
    "\n",
    "print(\"index: \",t.index(3))\n",
    "print(type(t))"
   ]
  },
  {
   "cell_type": "code",
   "execution_count": 24,
   "id": "8cad0706",
   "metadata": {},
   "outputs": [
    {
     "name": "stdout",
     "output_type": "stream",
     "text": [
      "{'a': 1, 'b': 2, 'c': 3}\n",
      "a\n",
      "b\n",
      "c\n",
      "{'a': 2, 'b': 2, 'c': 3}\n",
      "a : 2\n",
      "b : 2\n",
      "c : 3\n",
      "<class 'dict'>\n"
     ]
    }
   ],
   "source": [
    "d={'a':1,'b':2,'c':3}\n",
    "print(d)\n",
    "for i in d:\n",
    "  print(i)\n",
    "d['a']=2\n",
    "print(d)\n",
    "for key,items in d.items():\n",
    "  print(key, \":\",items)\n",
    "print(type(d))"
   ]
  },
  {
   "cell_type": "code",
   "execution_count": null,
   "id": "eeff0a48",
   "metadata": {},
   "outputs": [
    {
     "name": "stdout",
     "output_type": "stream",
     "text": [
      "[10, 'cijo', 'nirmal', 'rishana']\n",
      "[1, 2, 3, 8, 10, 'cijo']\n",
      "[8, 10, 'cijo', 'nirmal']\n",
      "[1, 2, 3, 8, 10, 'cijo', 'nirmal', 'rishana']\n",
      "[8, 10, 'cijo', 'nirmal']\n",
      "['rishana', 'nirmal', 'cijo', 10]\n",
      "[1, 2, 3, 8, 10, 'cijo', 'adithya', 'rishana']\n",
      "[1, 'replaced', 3, 'cijo', 'adithya', 'rishana']\n",
      "[1, 'replaced', 3, 'cijo', 'adithya']\n",
      "[1, 'replaced', 3, 'cijo']\n",
      "[1, 3, 'cijo']\n"
     ]
    }
   ],
   "source": [
    "l2=[1,2,3,8,10,'cijo','nirmal','rishana']\n",
    "print(l2[4:])\n",
    "print(l2[:6])\n",
    "print(l2[3:7])\n",
    "print(l2[::])\n",
    "\n",
    "print(l2[-5:-1])\n",
    "\n",
    "print(l2[7:3:-1])\n",
    "\n",
    "l2[-2]='adithya'\n",
    "print(l2)\n",
    "\n",
    "l2[1:5]=['replaced',3]\n",
    "print(l2)\n",
    "l2.remove('rishana')\n",
    "print(l2)\n",
    "\n",
    "del l2[-1]\n",
    "print(l2)\n",
    "\n",
    "l2.pop(1)\n",
    "print(l2)\n",
    "\n",
    "\n"
   ]
  },
  {
   "cell_type": "code",
   "execution_count": 42,
   "id": "6951ab18",
   "metadata": {},
   "outputs": [
    {
     "name": "stdout",
     "output_type": "stream",
     "text": [
      "[1, 2, 'hii', 'adithya', 'cijo', 10]\n"
     ]
    }
   ],
   "source": [
    "l1=[1,2,3,'nirmal','cijo',10]\n",
    "l1[2:4]=['hii','adithya']\n",
    "print(l1)"
   ]
  },
  {
   "cell_type": "code",
   "execution_count": 52,
   "id": "b3e0f9b8",
   "metadata": {},
   "outputs": [
    {
     "name": "stdout",
     "output_type": "stream",
     "text": [
      "[1, 2, 3, 4, 5, 1, 2, 3, 4, 5]\n",
      "[1, 2, 3, 4, 5, 6, 7, 8, 9, 10]\n",
      "True\n",
      "False\n"
     ]
    }
   ],
   "source": [
    "l3=[1,2,3,4,5]\n",
    "l4=[6,7,8,9,10]\n",
    "print(l3*2)\n",
    "print(l3+l4)\n",
    "print(6 in l4)\n",
    "print(11 in l3)"
   ]
  },
  {
   "cell_type": "code",
   "execution_count": null,
   "id": "e96778f3",
   "metadata": {},
   "outputs": [
    {
     "name": "stdout",
     "output_type": "stream",
     "text": [
      "[1, 2, 3, 4, 'cijo', 'nirmal', ['adithya', 'rishana']]\n",
      "[1, 2, 3, 4, 'cijo', 'nirmal', ['adithya', 'rishana'], 'adithya', 'rishana']\n",
      "[1, 2, 'second ele', 3, 4, 'cijo', 'nirmal', 'adithya', 'rishana']\n",
      "[1, 'second ele', 3, 4, 'cijo', 'nirmal', 'adithya', 'rishana']\n",
      "[]\n"
     ]
    }
   ],
   "source": [
    "l1=[1,2,3,4,'cijo']\n",
    "l1.append('nirmal')\n",
    "l1.append(['adithya','rishana'])\n",
    "print(l1)\n",
    "\n",
    "l1.extend(['adithya','rishana'])\n",
    "print(l1)\n",
    "l1.insert(2,'second ele')\n",
    "\n",
    "l1.remove(l1[7])\n",
    "print(l1)\n",
    "\n",
    "l1.pop(1)\n",
    "print(l1)\n",
    "l1.clear()\n",
    "print(l1)\n",
    "del l1\n"
   ]
  },
  {
   "cell_type": "code",
   "execution_count": null,
   "id": "550050fd",
   "metadata": {},
   "outputs": [
    {
     "name": "stdout",
     "output_type": "stream",
     "text": [
      "30\n",
      "10\n",
      "str\n"
     ]
    }
   ],
   "source": [
    "l1=[30,20,10,11]\n",
    "print(max(l1))\n",
    "print(min(l1))\n",
    "\n",
    "l2=['nirmal','str','abcd']  #compare ASCII Value\n",
    "print(max(l2))"
   ]
  },
  {
   "cell_type": "code",
   "execution_count": 77,
   "id": "2ca8b357",
   "metadata": {},
   "outputs": [
    {
     "name": "stdout",
     "output_type": "stream",
     "text": [
      "abcd\n"
     ]
    }
   ],
   "source": [
    "l2=['nirmal','str','abcd']\n",
    "print(min(l2))"
   ]
  },
  {
   "cell_type": "code",
   "execution_count": null,
   "id": "ba9a461d",
   "metadata": {},
   "outputs": [
    {
     "name": "stdout",
     "output_type": "stream",
     "text": [
      "[1, 3, 6, 22, 77, 99]\n",
      "[99, 77, 22, 6, 3, 1]\n",
      "['apple', 'ball', 'cat']\n"
     ]
    }
   ],
   "source": [
    "l1=[3,6,1,77,99,22]\n",
    "l2=['ball','cat','apple']\n",
    "l1.sort()\n",
    "print(l1)\n",
    "\n",
    "# l2=sorted(l1)\n",
    "# print(l2)\n",
    "\n",
    "l1.sort(reverse=True)\n",
    "print(l1)\n",
    "\n",
    "l2.sort()\n",
    "print(l2)"
   ]
  }
 ],
 "metadata": {
  "kernelspec": {
   "display_name": "Python 3",
   "language": "python",
   "name": "python3"
  },
  "language_info": {
   "codemirror_mode": {
    "name": "ipython",
    "version": 3
   },
   "file_extension": ".py",
   "mimetype": "text/x-python",
   "name": "python",
   "nbconvert_exporter": "python",
   "pygments_lexer": "ipython3",
   "version": "3.11.9"
  }
 },
 "nbformat": 4,
 "nbformat_minor": 5
}
